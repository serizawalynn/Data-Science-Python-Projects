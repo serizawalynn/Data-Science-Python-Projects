{
 "cells": [
  {
   "cell_type": "markdown",
   "metadata": {},
   "source": [
    "# National Park Biodiversity Project\n",
    "This project was done through CodeAcademy's Data Science career path.\n",
    "\n",
    "## Examine data\n",
    "Here, I will load the csvs into pandas dataframes so I can inspect it."
   ]
  },
  {
   "cell_type": "code",
   "execution_count": 1,
   "metadata": {},
   "outputs": [
    {
     "name": "stdout",
     "output_type": "stream",
     "text": [
      "  category                scientific_name  \\\n",
      "0   Mammal  Clethrionomys gapperi gapperi   \n",
      "1   Mammal                      Bos bison   \n",
      "2   Mammal                     Bos taurus   \n",
      "3   Mammal                     Ovis aries   \n",
      "4   Mammal                 Cervus elaphus   \n",
      "\n",
      "                                        common_names conservation_status  \n",
      "0                           Gapper's Red-Backed Vole                 NaN  \n",
      "1                              American Bison, Bison                 NaN  \n",
      "2  Aurochs, Aurochs, Domestic Cattle (Feral), Dom...                 NaN  \n",
      "3  Domestic Sheep, Mouflon, Red Sheep, Sheep (Feral)                 NaN  \n",
      "4                                      Wapiti Or Elk                 NaN  \n",
      "            scientific_name                            park_name  observations\n",
      "0        Vicia benghalensis  Great Smoky Mountains National Park            68\n",
      "1            Neovison vison  Great Smoky Mountains National Park            77\n",
      "2         Prunus subcordata               Yosemite National Park           138\n",
      "3      Abutilon theophrasti                  Bryce National Park            84\n",
      "4  Githopsis specularioides  Great Smoky Mountains National Park            85\n"
     ]
    }
   ],
   "source": [
    "import pandas as pd\n",
    "import numpy as np\n",
    "from matplotlib import pyplot as plt\n",
    "import seaborn as sns\n",
    "\n",
    "sp_info=pd.read_csv('species_info.csv')\n",
    "observations=pd.read_csv('observations.csv')\n",
    "print(sp_info.head())\n",
    "print(observations.head())"
   ]
  },
  {
   "cell_type": "markdown",
   "metadata": {},
   "source": [
    "It looks like the two dataframes share a common column: scientific_name. I will concatenate these two dataframes so that we can access the data through one dataframe."
   ]
  },
  {
   "cell_type": "code",
   "execution_count": 2,
   "metadata": {},
   "outputs": [
    {
     "name": "stdout",
     "output_type": "stream",
     "text": [
      "29120\n",
      "Index(['category', 'common_names', 'conservation_status', 'observations',\n",
      "       'park_name', 'scientific_name'],\n",
      "      dtype='object')\n",
      "  category                                       common_names  \\\n",
      "0   Mammal                           Gapper's Red-Backed Vole   \n",
      "1   Mammal                              American Bison, Bison   \n",
      "2   Mammal  Aurochs, Aurochs, Domestic Cattle (Feral), Dom...   \n",
      "3   Mammal  Domestic Sheep, Mouflon, Red Sheep, Sheep (Feral)   \n",
      "4   Mammal                                      Wapiti Or Elk   \n",
      "\n",
      "  conservation_status  observations park_name                scientific_name  \n",
      "0                 NaN           NaN       NaN  Clethrionomys gapperi gapperi  \n",
      "1                 NaN           NaN       NaN                      Bos bison  \n",
      "2                 NaN           NaN       NaN                     Bos taurus  \n",
      "3                 NaN           NaN       NaN                     Ovis aries  \n",
      "4                 NaN           NaN       NaN                 Cervus elaphus  \n"
     ]
    }
   ],
   "source": [
    "df=pd.concat([sp_info,observations],ignore_index=True,sort=True)\n",
    "print(len(df))\n",
    "print(df.columns)\n",
    "print(df.head())\n"
   ]
  },
  {
   "cell_type": "markdown",
   "metadata": {},
   "source": [
    "I will also print the unique entries of each column."
   ]
  },
  {
   "cell_type": "code",
   "execution_count": 3,
   "metadata": {},
   "outputs": [
    {
     "name": "stdout",
     "output_type": "stream",
     "text": [
      "The unique entries in the column category is:\n",
      "['Mammal' 'Bird' 'Reptile' 'Amphibian' 'Fish' 'Vascular Plant'\n",
      " 'Nonvascular Plant' nan]\n",
      "\n",
      "The unique entries in the column common_names is:\n",
      "[\"Gapper's Red-Backed Vole\" 'American Bison, Bison'\n",
      " 'Aurochs, Aurochs, Domestic Cattle (Feral), Domesticated Cattle' ...\n",
      " 'California Grape, California Wild Grape'\n",
      " 'Bullhead, Caltrop, Goathead, Mexican Sandbur, Puncture Vine, Texas Sandbur'\n",
      " nan]\n",
      "\n",
      "The unique entries in the column conservation_status is:\n",
      "[nan 'Species of Concern' 'Endangered' 'Threatened' 'In Recovery']\n",
      "\n",
      "The unique entries in the column observations is:\n",
      "[ nan  68.  77. 138.  84.  85. 112. 228.  39. 168. 250. 103. 114. 101.\n",
      " 279.  72.  65. 143. 165. 150.  80.  83. 109. 158. 167. 135. 247.  73.\n",
      " 261. 177. 117.  79.  96. 140. 116. 239. 262.  71. 176. 148.  76. 235.\n",
      " 283.  25. 246.  64. 281.  88.  67. 254. 152. 147. 213. 265. 107. 156.\n",
      "  47. 157.  89. 154. 127. 106.  75.  36. 137. 244.  63. 214.  92. 108.\n",
      "  54. 105. 115.  98. 223.  82.  90. 218.  58.  59.  48. 208.  95.  70.\n",
      " 100.  49.  56. 134.  91.  86. 136. 257. 123. 263. 118. 258. 252.  27.\n",
      "  74.  94. 132.  57. 282. 110. 253. 267. 230. 124. 131. 164. 260. 119.\n",
      " 233. 245.  60. 151.  66. 206. 189. 242. 111. 120. 243. 276. 237.  29.\n",
      " 220. 266. 166.  53. 240.  55. 215. 125.  99. 199. 128. 232. 251. 269.\n",
      " 163.  93. 241. 122.  69.  97. 149. 141. 142. 216. 113. 145.  43. 229.\n",
      " 234. 153. 212. 172. 146. 291. 160. 188. 256. 129. 227. 264. 192. 159.\n",
      " 139. 144.  34. 236.  81.  78. 174.  45. 201. 155. 133. 249. 219. 238.\n",
      " 161.  52. 130.  61. 102. 273. 259. 126. 289. 210.  87.  42. 305.  62.\n",
      "  35. 184.  30.  46. 255. 186. 162. 203. 222. 225. 170.  50. 169. 285.\n",
      " 183.  38. 280. 221. 248. 197. 294. 104. 274. 181. 297. 284. 175. 295.\n",
      " 293. 121. 194. 270. 286. 272. 217.  37. 193. 287. 190. 268. 204. 278.\n",
      " 191. 317. 171. 200.  40. 180. 179.  44. 304. 224. 277. 275. 231. 288.\n",
      " 185. 209. 207.  31.  51. 173.  26. 271. 312. 178. 226. 187. 296.  41.\n",
      " 205. 182. 300.  20.  23. 211. 290.  33.  14. 292. 298. 301. 302. 196.\n",
      " 299.  19.  24. 202. 195.  32. 307.  22. 314.  28.  21. 316.   9. 198.\n",
      "  13.  17. 303.  15. 306. 321.  18.  10.  11.  12. 310.]\n",
      "\n",
      "The unique entries in the column park_name is:\n",
      "[nan 'Great Smoky Mountains National Park' 'Yosemite National Park'\n",
      " 'Bryce National Park' 'Yellowstone National Park']\n",
      "\n",
      "The unique entries in the column scientific_name is:\n",
      "['Clethrionomys gapperi gapperi' 'Bos bison' 'Bos taurus' ...\n",
      " 'Parthenocissus vitacea' 'Vitis californica' 'Tribulus terrestris']\n",
      "\n"
     ]
    }
   ],
   "source": [
    "columns=df.columns\n",
    "for column in columns:\n",
    "    unique_entries=pd.unique(df[column])\n",
    "    print(\"The unique entries in the column \"+column+\" is:\")\n",
    "    print(unique_entries)\n",
    "    print('')"
   ]
  },
  {
   "cell_type": "markdown",
   "metadata": {},
   "source": [
    "In the conservation_status column, nan might cause some issues when visualizing the data, and is not particularly descriptive. I will replace every nan with \"No Concern\"."
   ]
  },
  {
   "cell_type": "code",
   "execution_count": 4,
   "metadata": {},
   "outputs": [
    {
     "name": "stdout",
     "output_type": "stream",
     "text": [
      "  category                                       common_names  \\\n",
      "0   Mammal                           Gapper's Red-Backed Vole   \n",
      "1   Mammal                              American Bison, Bison   \n",
      "2   Mammal  Aurochs, Aurochs, Domestic Cattle (Feral), Dom...   \n",
      "3   Mammal  Domestic Sheep, Mouflon, Red Sheep, Sheep (Feral)   \n",
      "4   Mammal                                      Wapiti Or Elk   \n",
      "\n",
      "  conservation_status  observations park_name                scientific_name  \n",
      "0          No Concern           NaN       NaN  Clethrionomys gapperi gapperi  \n",
      "1          No Concern           NaN       NaN                      Bos bison  \n",
      "2          No Concern           NaN       NaN                     Bos taurus  \n",
      "3          No Concern           NaN       NaN                     Ovis aries  \n",
      "4          No Concern           NaN       NaN                 Cervus elaphus  \n"
     ]
    }
   ],
   "source": [
    "df['conservation_status']=df[\"conservation_status\"].fillna(\"No Concern\")\n",
    "print(df.head())"
   ]
  },
  {
   "cell_type": "markdown",
   "metadata": {},
   "source": [
    "There are also nan values in the category column. I will examine them below:"
   ]
  },
  {
   "cell_type": "code",
   "execution_count": 5,
   "metadata": {},
   "outputs": [
    {
     "name": "stdout",
     "output_type": "stream",
     "text": [
      "      category common_names conservation_status  observations  \\\n",
      "5824       NaN          NaN          No Concern          68.0   \n",
      "5825       NaN          NaN          No Concern          77.0   \n",
      "5826       NaN          NaN          No Concern         138.0   \n",
      "5827       NaN          NaN          No Concern          84.0   \n",
      "5828       NaN          NaN          No Concern          85.0   \n",
      "...        ...          ...                 ...           ...   \n",
      "29115      NaN          NaN          No Concern         173.0   \n",
      "29116      NaN          NaN          No Concern         130.0   \n",
      "29117      NaN          NaN          No Concern         140.0   \n",
      "29118      NaN          NaN          No Concern         171.0   \n",
      "29119      NaN          NaN          No Concern         164.0   \n",
      "\n",
      "                                 park_name  \\\n",
      "5824   Great Smoky Mountains National Park   \n",
      "5825   Great Smoky Mountains National Park   \n",
      "5826                Yosemite National Park   \n",
      "5827                   Bryce National Park   \n",
      "5828   Great Smoky Mountains National Park   \n",
      "...                                    ...   \n",
      "29115               Yosemite National Park   \n",
      "29116                  Bryce National Park   \n",
      "29117                  Bryce National Park   \n",
      "29118               Yosemite National Park   \n",
      "29119               Yosemite National Park   \n",
      "\n",
      "                               scientific_name  \n",
      "5824                        Vicia benghalensis  \n",
      "5825                            Neovison vison  \n",
      "5826                         Prunus subcordata  \n",
      "5827                      Abutilon theophrasti  \n",
      "5828                  Githopsis specularioides  \n",
      "...                                        ...  \n",
      "29115                     Croton monanthogynus  \n",
      "29116                 Otospermophilus beecheyi  \n",
      "29117  Heterotheca sessiliflora ssp. echioides  \n",
      "29118                     Dicranella rufescens  \n",
      "29119                           Cucurbita pepo  \n",
      "\n",
      "[23296 rows x 6 columns]\n",
      "23296\n"
     ]
    }
   ],
   "source": [
    "df_category_nan=df[df['category'].isna()]\n",
    "print(df_category_nan)\n",
    "print(len(df_category_nan))"
   ]
  },
  {
   "cell_type": "markdown",
   "metadata": {},
   "source": [
    "Those nan values may be problematic. Some of the species are for species that are extinct, or are miscategorized. I will remove them as they will cause problems for data visualization. "
   ]
  },
  {
   "cell_type": "code",
   "execution_count": 6,
   "metadata": {},
   "outputs": [
    {
     "name": "stdout",
     "output_type": "stream",
     "text": [
      "            category                                       common_names  \\\n",
      "0             Mammal                           Gapper's Red-Backed Vole   \n",
      "1             Mammal                              American Bison, Bison   \n",
      "2             Mammal  Aurochs, Aurochs, Domestic Cattle (Feral), Dom...   \n",
      "3             Mammal  Domestic Sheep, Mouflon, Red Sheep, Sheep (Feral)   \n",
      "4             Mammal                                      Wapiti Or Elk   \n",
      "...              ...                                                ...   \n",
      "5819  Vascular Plant                                Parish's Nightshade   \n",
      "5820  Vascular Plant            Chaparral Nightshade, Purple Nightshade   \n",
      "5821  Vascular Plant        Thicket Creeper, Virginia Creeper, Woodbine   \n",
      "5822  Vascular Plant            California Grape, California Wild Grape   \n",
      "5823  Vascular Plant  Bullhead, Caltrop, Goathead, Mexican Sandbur, ...   \n",
      "\n",
      "     conservation_status  observations park_name  \\\n",
      "0             No Concern           NaN       NaN   \n",
      "1             No Concern           NaN       NaN   \n",
      "2             No Concern           NaN       NaN   \n",
      "3             No Concern           NaN       NaN   \n",
      "4             No Concern           NaN       NaN   \n",
      "...                  ...           ...       ...   \n",
      "5819          No Concern           NaN       NaN   \n",
      "5820          No Concern           NaN       NaN   \n",
      "5821          No Concern           NaN       NaN   \n",
      "5822          No Concern           NaN       NaN   \n",
      "5823          No Concern           NaN       NaN   \n",
      "\n",
      "                    scientific_name  \n",
      "0     Clethrionomys gapperi gapperi  \n",
      "1                         Bos bison  \n",
      "2                        Bos taurus  \n",
      "3                        Ovis aries  \n",
      "4                    Cervus elaphus  \n",
      "...                             ...  \n",
      "5819               Solanum parishii  \n",
      "5820                  Solanum xanti  \n",
      "5821         Parthenocissus vitacea  \n",
      "5822              Vitis californica  \n",
      "5823            Tribulus terrestris  \n",
      "\n",
      "[5824 rows x 6 columns]\n"
     ]
    }
   ],
   "source": [
    "df=df.dropna(subset=['category'])\n",
    "print(df)"
   ]
  },
  {
   "cell_type": "markdown",
   "metadata": {},
   "source": [
    "To better understand what kind of animals are in each conservation status group, I will make a clustered bar chart to show the proportions of each conservation status group."
   ]
  },
  {
   "cell_type": "code",
   "execution_count": 19,
   "metadata": {},
   "outputs": [
    {
     "data": {
      "image/png": "[encoded data removed]",
      "text/plain": [
       "<Figure size 432x288 with 1 Axes>"
      ]
     },
     "metadata": {
      "needs_background": "light"
     },
     "output_type": "display_data"
    }
   ],
   "source": [
    "consv_list=pd.unique(df['conservation_status'])\n",
    "def count_anims(sort):\n",
    "    lst=[]\n",
    "    for status in consv_list:\n",
    "        df1=df[df['conservation_status']==status]\n",
    "        lst.append(df1[df1['category']==sort].count()[0])\n",
    "    return lst\n",
    "x_labels=consv_list\n",
    "\n",
    "y_mammal=count_anims('Mammal')\n",
    "y_bird=count_anims('Bird')\n",
    "y_reptile=count_anims('Reptile')\n",
    "y_amphib=count_anims('Amphibian')\n",
    "y_fish=count_anims('Fish')\n",
    "y_vascplnt=count_anims('Vascular Plant')\n",
    "y_nonvascplnt=count_anims('Nonvascular Plant')\n",
    "\n",
    "def conv_percent(l1,l2,l3,l4,l5,l6,l7):\n",
    "    lst=[]\n",
    "    indexes=range(len(l1))\n",
    "    for index in indexes:\n",
    "        lst.append(l1[index]+l2[index]+l3[index]+l4[index]+l5[index]+l6[index]+l7[index])\n",
    "    return lst\n",
    "divisor_list=conv_percent(y_mammal,y_bird,y_reptile,y_amphib,y_fish,y_vascplnt,y_nonvascplnt)\n",
    "\n",
    "y_mammal1=[i*100/j for i,j in zip(y_mammal,divisor_list)]\n",
    "y_bird1=[i*100/j for i,j in zip(y_bird,divisor_list)]\n",
    "y_reptile1=[i*100/j for i,j in zip(y_reptile,divisor_list)]\n",
    "y_amphib1=[i*100/j for i,j in zip(y_amphib,divisor_list)]\n",
    "y_fish1=[i*100/j for i,j in zip(y_fish,divisor_list)]\n",
    "y_vascplnt1=[i*100/j for i,j in zip(y_vascplnt,divisor_list)]\n",
    "y_nonvascplnt1=[i*100/j for i,j in zip(y_nonvascplnt,divisor_list)]\n",
    "\n",
    "x_ticks=np.arange(len(x_labels))\n",
    "\n",
    "width=.1\n",
    "\n",
    "bar1=plt.bar(x_ticks,y_mammal1,width)\n",
    "bar2=plt.bar(x_ticks+width,y_bird1,width)\n",
    "bar3=plt.bar(x_ticks+width*2,y_reptile1,width)\n",
    "bar4=plt.bar(x_ticks+width*3,y_fish1,width)\n",
    "bar5=plt.bar(x_ticks+width*4,y_vascplnt1,width)\n",
    "bar6=plt.bar(x_ticks+width*5,y_nonvascplnt1,width)\n",
    "bar7=plt.bar(x_ticks+width*6,y_amphib1,width)\n",
    "plt.legend((bar1,bar2,bar3,bar4,bar5,bar6,bar7),('Mammal','Bird','Reptile','Fish','Vascular Plant','Non-Vascular Plant','Amphib'),loc='center left',bbox_to_anchor=(1,0.5))\n",
    "plt.xticks(x_ticks+width,x_labels)\n",
    "plt.xticks(rotation=30)\n",
    "plt.title('Proportions of Animals in Each Conservation Status Category')\n",
    "plt.ylabel('%')\n",
    "plt.grid(axis='y')\n",
    "plt.show()"
   ]
  },
  {
   "cell_type": "markdown",
   "metadata": {},
   "source": [
    "The following is what I have gathered from the plot.\n",
    "1. Vascular plants make up the biggest proportion of species that are listed under the \"No Concern\" category.\n",
    "2. Birds, mammals, and vasuclar plants make up the majority of the species under the \"Species of Concern\" category.\n",
    "3. Mammals, birds, and fish make up the majority of the species under the \"Endangered\" category.\n",
    "4. Fish, mammals, vascular plants, and amphibans make up all of the species under the \"Endangered\" category.\n",
    "5. Fish represent the biggest category of animals placed under the \"Endangered\" category.\n",
    "6. Birds make up a majority of the animals under the \"In Recovery\" category.\n",
    "\n",
    "Now, I will make a similar graph where the categories on the x-axis are the animal categories."
   ]
  },
  {
   "cell_type": "code",
   "execution_count": 18,
   "metadata": {},
   "outputs": [
    {
     "name": "stdout",
     "output_type": "stream",
     "text": [
      "['Mammal' 'Bird' 'Reptile' 'Amphibian' 'Fish' 'Vascular Plant'\n",
      " 'Nonvascular Plant']\n",
      "[0 1 2 3 4 5 6]\n",
      "[176, 442, 74, 73, 116, 4424, 328]\n",
      "[82.24299065420561, 84.83685220729366, 93.67088607594937, 91.25, 91.33858267716535, 98.97091722595079, 98.49849849849849]\n"
     ]
    },
    {
     "data": {
      "image/png": "[encoded data removed]",
      "text/plain": [
       "<Figure size 432x288 with 1 Axes>"
      ]
     },
     "metadata": {
      "needs_background": "light"
     },
     "output_type": "display_data"
    }
   ],
   "source": [
    "category_list=pd.unique(df['category'])\n",
    "print(category_list)\n",
    "def count_consv_stat(sort):\n",
    "    lst=[]\n",
    "    for animal in category_list:\n",
    "        df1=df[df['category']==animal]\n",
    "        lst.append(df1[df1['conservation_status']==sort].count()[0])\n",
    "    return lst\n",
    "\n",
    "y_no_con=count_consv_stat('No Concern')\n",
    "y_soc=count_consv_stat('Species of Concern')\n",
    "y_end=count_consv_stat(\"Endangered\")\n",
    "y_thr=count_consv_stat(\"Threatened\")\n",
    "y_ir=count_consv_stat(\"In Recovery\")\n",
    "\n",
    "def conv_percent2(l1,l2,l3,l4,l5):\n",
    "    lst=[]\n",
    "    indexes=range(len(l1))\n",
    "    for index in indexes:\n",
    "        lst.append(l1[index]+l2[index]+l3[index]+l4[index]+l5[index])\n",
    "    return lst\n",
    "\n",
    "divisior_list=conv_percent2(y_no_con,y_soc,y_end,y_thr,y_ir)\n",
    "\n",
    "y_no_con1=[i*100/j for i,j in zip(y_no_con,divisior_list)]\n",
    "y_soc1=[i*100/j for i,j in zip(y_soc,divisior_list)]\n",
    "y_end1=[i*100/j for i,j in zip(y_end,divisior_list)]\n",
    "y_thr1=[i*100/j for i,j in zip(y_thr,divisior_list)]\n",
    "y_ir1=[i*100/j for i,j in zip(y_ir,divisior_list)]\n",
    "\n",
    "x_ticks=np.arange(len(category_list))\n",
    "\n",
    "width=.1\n",
    "print(x_ticks)\n",
    "print(y_no_con)\n",
    "print(y_no_con1)\n",
    "bar11=plt.bar(x_ticks,y_no_con1,width)\n",
    "bar12=plt.bar(x_ticks+width,y_soc1,width)\n",
    "bar13=plt.bar(x_ticks+width*2,y_end1,width)\n",
    "bar14=plt.bar(x_ticks+width*3,y_thr1,width)\n",
    "bar15=plt.bar(x_ticks+width*4,y_ir1,width)\n",
    "plt.legend((bar11,bar12,bar13,bar14,bar15),('No Concern','Species of Concern','Endangered','Threatened','In Recovery'),loc='center left',bbox_to_anchor=(1,0.5))\n",
    "plt.xticks(x_ticks+width,category_list)\n",
    "plt.xticks(rotation=30)\n",
    "plt.title('Levels of Conservation Status Among Animals')\n",
    "plt.ylabel('%')\n",
    "plt.grid(axis='y')\n",
    "plt.show()"
   ]
  },
  {
   "cell_type": "markdown",
   "metadata": {},
   "source": [
    "The \"No Concern\" category makes it hard to discern the data for the other conservation levels. I will make a new graph without the \"No Concern\" category."
   ]
  },
  {
   "cell_type": "code",
   "execution_count": 17,
   "metadata": {},
   "outputs": [
    {
     "name": "stdout",
     "output_type": "stream",
     "text": [
      "['Mammal' 'Bird' 'Reptile' 'Amphibian' 'Fish' 'Vascular Plant'\n",
      " 'Nonvascular Plant']\n",
      "[0 1 2 3 4 5 6]\n",
      "[176, 442, 74, 73, 116, 4424, 328]\n",
      "[82.24299065420561, 84.83685220729366, 93.67088607594937, 91.25, 91.33858267716535, 98.97091722595079, 98.49849849849849]\n"
     ]
    },
    {
     "data": {
      "image/png": "[encoded data removed]",
      "text/plain": [
       "<Figure size 432x288 with 1 Axes>"
      ]
     },
     "metadata": {
      "needs_background": "light"
     },
     "output_type": "display_data"
    }
   ],
   "source": [
    "category_list=pd.unique(df['category'])\n",
    "print(category_list)\n",
    "def count_consv_stat(sort):\n",
    "    lst=[]\n",
    "    for animal in category_list:\n",
    "        df1=df[df['category']==animal]\n",
    "        lst.append(df1[df1['conservation_status']==sort].count()[0])\n",
    "    return lst\n",
    "\n",
    "y_soc=count_consv_stat('Species of Concern')\n",
    "y_end=count_consv_stat(\"Endangered\")\n",
    "y_thr=count_consv_stat(\"Threatened\")\n",
    "y_ir=count_consv_stat(\"In Recovery\")\n",
    "\n",
    "def conv_percent3(l2,l3,l4,l5):\n",
    "    lst=[]\n",
    "    indexes=range(len(l2))\n",
    "    for index in indexes:\n",
    "        lst.append(l2[index]+l3[index]+l4[index]+l5[index])\n",
    "    return lst\n",
    "\n",
    "divisior_list=conv_percent2(y_no_con,y_soc,y_end,y_thr,y_ir)\n",
    "\n",
    "\n",
    "y_soc1=[i*100/j for i,j in zip(y_soc,divisior_list)]\n",
    "y_end1=[i*100/j for i,j in zip(y_end,divisior_list)]\n",
    "y_thr1=[i*100/j for i,j in zip(y_thr,divisior_list)]\n",
    "y_ir1=[i*100/j for i,j in zip(y_ir,divisior_list)]\n",
    "\n",
    "x_ticks=np.arange(len(category_list))\n",
    "\n",
    "width=.1\n",
    "print(x_ticks)\n",
    "print(y_no_con)\n",
    "print(y_no_con1)\n",
    "\n",
    "bar12=plt.bar(x_ticks+width,y_soc1,width)\n",
    "bar13=plt.bar(x_ticks+width*2,y_end1,width)\n",
    "bar14=plt.bar(x_ticks+width*3,y_thr1,width)\n",
    "bar15=plt.bar(x_ticks+width*4,y_ir1,width)\n",
    "plt.legend((bar12,bar13,bar14,bar15),('Species of Concern','Endangered','Threatened','In Recovery'),loc='center left',bbox_to_anchor=(1,0.5))\n",
    "plt.xticks(x_ticks+width,category_list)\n",
    "plt.xticks(rotation=30)\n",
    "plt.title('Levels of Conservation Status Among Animals')\n",
    "plt.ylabel('%')\n",
    "plt.grid(axis='y')\n",
    "plt.show()\n"
   ]
  },
  {
   "cell_type": "markdown",
   "metadata": {},
   "source": [
    "We can gather the following based on the above two graphs:\n",
    "1. Most species in each category are in the \"No Concern\" conservation status.\n",
    "2. In mammals, around 13% of mammalian species are in the \"Species of Concern\" conservation status.\n",
    "3. In birds, around 14% of mammalian species are in the \"Species of Concern\" conservation status.\n",
    "4. Among reptiles, just above 6% of species are listed under the \"Species of Concern\" status.\n",
    "5. In vascular and non-vascular plants, less than two percent of the category's species are listed under the \"Species of Concern\" category. Overall, only a small percent of plants are threatened in some way.\n",
    "6. "
   ]
  },
  {
   "cell_type": "code",
   "execution_count": 36,
   "metadata": {},
   "outputs": [
    {
     "name": "stdout",
     "output_type": "stream",
     "text": [
      "The 5 Most Frequently Observed Species at Great Smoky Mountains National Park are: \n",
      "Collomia tinctoria\n",
      "Strix occidentalis\n",
      "Rana sierrae\n",
      "Sambucus mexicana\n",
      "Seiurus aurocapilla\n",
      "\n",
      "The 5 Most Frequently Observed Species at Yosemite National Park are: \n",
      "Noturus baileyi\n",
      "Canis rufus\n",
      "Canis lupus\n",
      "Chasmistes liorus\n",
      "Glaucomys sabrinus coloratus\n",
      "\n",
      "The 5 Most Frequently Observed Species at Bryce National Park are: \n",
      "Corydalis aurea\n",
      "Arenaria serpyllifolia\n",
      "Vermivora bachmanii\n",
      "Ovis canadensis sierrae\n",
      "Noturus baileyi\n",
      "\n",
      "The 5 Most Frequently Observed Species at Yellowstone National Park are: \n",
      "Grus americana\n",
      "Vermivora bachmanii\n",
      "Canis lupus\n",
      "Canis rufus\n",
      "Rana sierrae\n",
      "\n"
     ]
    }
   ],
   "source": [
    "sp_info=pd.read_csv('species_info.csv')\n",
    "observations=pd.read_csv('observations.csv')\n",
    "df=pd.concat([sp_info,observations],ignore_index=True,sort=True)\n",
    "df_pk_bars=df[['common_names','scientific_name','park_name','observations','category']]\n",
    "df_pk_bars=df_pk_bars.dropna(subset=['park_name'])\n",
    "for park in pd.unique(df_pk_bars['park_name']):\n",
    "    sorting_df=df_pk_bars[df_pk_bars['park_name']==park]\n",
    "    sorting_df=sorting_df.sort_values('observations')\n",
    "    lst=sorting_df['scientific_name'].iloc[0:5]\n",
    "    print('The 5 Most Frequently Observed Species at '+park+' are: \\n' +lst.iloc[0]+'\\n'+lst.iloc[1]+'\\n'+lst.iloc[2]+'\\n'+lst.iloc[3]+'\\n'+lst.iloc[4]+'\\n')"
   ]
  }
 ],
 "metadata": {
  "kernelspec": {
   "display_name": "Python 3",
   "language": "python",
   "name": "python3"
  },
  "language_info": {
   "codemirror_mode": {
    "name": "ipython",
    "version": 3
   },
   "file_extension": ".py",
   "mimetype": "text/x-python",
   "name": "python",
   "nbconvert_exporter": "python",
   "pygments_lexer": "ipython3",
   "version": "3.8.3"
  }
 },
 "nbformat": 4,
 "nbformat_minor": 4
}
