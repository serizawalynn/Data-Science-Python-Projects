{
 "cells": [
  {
   "cell_type": "markdown",
   "metadata": {},
   "source": [
    "# Date-A-Scientist Portfolio Project\n",
    "This project was done through CodeAcademy's Data Scientist career path.\n",
    "\n",

    "\n",
    "## Examine Data\n",
    "Before anything else, I will examine the data so that we can get a good understanding of the data available to us."
   ]
  },
  {
   "cell_type": "code",
   "execution_count": 1,
   "metadata": {},
   "outputs": [
    {
     "name": "stdout",
     "output_type": "stream",
     "text": [
      "age              int64\n",
      "body_type       object\n",
      "diet            object\n",
      "drinks          object\n",
      "drugs           object\n",
      "education       object\n",
      "essay0          object\n",
      "essay1          object\n",
      "essay2          object\n",
      "essay3          object\n",
      "essay4          object\n",
      "essay5          object\n",
      "essay6          object\n",
      "essay7          object\n",
      "essay8          object\n",
      "essay9          object\n",
      "ethnicity       object\n",
      "height         float64\n",
      "income           int64\n",
      "job             object\n",
      "last_online     object\n",
      "location        object\n",
      "offspring       object\n",
      "orientation     object\n",
      "pets            object\n",
      "religion        object\n",
      "sex             object\n",
      "sign            object\n",
      "smokes          object\n",
      "speaks          object\n",
      "status          object\n",
      "dtype: object\n"
     ]
    },
    {
     "data": {
      "text/html": [
       "<div>\n",
       "<style scoped>\n",
       "    .dataframe tbody tr th:only-of-type {\n",
       "        vertical-align: middle;\n",
       "    }\n",
       "\n",
       "    .dataframe tbody tr th {\n",
       "        vertical-align: top;\n",
       "    }\n",
       "\n",
       "    .dataframe thead th {\n",
       "        text-align: right;\n",
       "    }\n",
       "</style>\n",
       "<table border=\"1\" class=\"dataframe\">\n",
       "  <thead>\n",
       "    <tr style=\"text-align: right;\">\n",
       "      <th></th>\n",
       "      <th>age</th>\n",
       "      <th>body_type</th>\n",
       "      <th>diet</th>\n",
       "      <th>drinks</th>\n",
       "      <th>drugs</th>\n",
       "      <th>education</th>\n",
       "      <th>essay0</th>\n",
       "      <th>essay1</th>\n",
       "      <th>essay2</th>\n",
       "      <th>essay3</th>\n",
       "      <th>...</th>\n",
       "      <th>location</th>\n",
       "      <th>offspring</th>\n",
       "      <th>orientation</th>\n",
       "      <th>pets</th>\n",
       "      <th>religion</th>\n",
       "      <th>sex</th>\n",
       "      <th>sign</th>\n",
       "      <th>smokes</th>\n",
       "      <th>speaks</th>\n",
       "      <th>status</th>\n",
       "    </tr>\n",
       "  </thead>\n",
       "  <tbody>\n",
       "    <tr>\n",
       "      <th>0</th>\n",
       "      <td>22</td>\n",
       "      <td>a little extra</td>\n",
       "      <td>strictly anything</td>\n",
       "      <td>socially</td>\n",
       "      <td>never</td>\n",
       "      <td>working on college/university</td>\n",
       "      <td>about me:&lt;br /&gt;\\n&lt;br /&gt;\\ni would love to think...</td>\n",
       "      <td>currently working as an international agent fo...</td>\n",
       "      <td>making people laugh.&lt;br /&gt;\\nranting about a go...</td>\n",
       "      <td>the way i look. i am a six foot half asian, ha...</td>\n",
       "      <td>...</td>\n",
       "      <td>south san francisco, california</td>\n",
       "      <td>doesn&amp;rsquo;t have kids, but might want them</td>\n",
       "      <td>straight</td>\n",
       "      <td>likes dogs and likes cats</td>\n",
       "      <td>agnosticism and very serious about it</td>\n",
       "      <td>m</td>\n",
       "      <td>gemini</td>\n",
       "      <td>sometimes</td>\n",
       "      <td>english</td>\n",
       "      <td>single</td>\n",
       "    </tr>\n",
       "    <tr>\n",
       "      <th>1</th>\n",
       "      <td>35</td>\n",
       "      <td>average</td>\n",
       "      <td>mostly other</td>\n",
       "      <td>often</td>\n",
       "      <td>sometimes</td>\n",
       "      <td>working on space camp</td>\n",
       "      <td>i am a chef: this is what that means.&lt;br /&gt;\\n1...</td>\n",
       "      <td>dedicating everyday to being an unbelievable b...</td>\n",
       "      <td>being silly. having ridiculous amonts of fun w...</td>\n",
       "      <td>NaN</td>\n",
       "      <td>...</td>\n",
       "      <td>oakland, california</td>\n",
       "      <td>doesn&amp;rsquo;t have kids, but might want them</td>\n",
       "      <td>straight</td>\n",
       "      <td>likes dogs and likes cats</td>\n",
       "      <td>agnosticism but not too serious about it</td>\n",
       "      <td>m</td>\n",
       "      <td>cancer</td>\n",
       "      <td>no</td>\n",
       "      <td>english (fluently), spanish (poorly), french (...</td>\n",
       "      <td>single</td>\n",
       "    </tr>\n",
       "    <tr>\n",
       "      <th>2</th>\n",
       "      <td>38</td>\n",
       "      <td>thin</td>\n",
       "      <td>anything</td>\n",
       "      <td>socially</td>\n",
       "      <td>NaN</td>\n",
       "      <td>graduated from masters program</td>\n",
       "      <td>i'm not ashamed of much, but writing public te...</td>\n",
       "      <td>i make nerdy software for musicians, artists, ...</td>\n",
       "      <td>improvising in different contexts. alternating...</td>\n",
       "      <td>my large jaw and large glasses are the physica...</td>\n",
       "      <td>...</td>\n",
       "      <td>san francisco, california</td>\n",
       "      <td>NaN</td>\n",
       "      <td>straight</td>\n",
       "      <td>has cats</td>\n",
       "      <td>NaN</td>\n",
       "      <td>m</td>\n",
       "      <td>pisces but it doesn&amp;rsquo;t matter</td>\n",
       "      <td>no</td>\n",
       "      <td>english, french, c++</td>\n",
       "      <td>available</td>\n",
       "    </tr>\n",
       "    <tr>\n",
       "      <th>3</th>\n",
       "      <td>23</td>\n",
       "      <td>thin</td>\n",
       "      <td>vegetarian</td>\n",
       "      <td>socially</td>\n",
       "      <td>NaN</td>\n",
       "      <td>working on college/university</td>\n",
       "      <td>i work in a library and go to school. . .</td>\n",
       "      <td>reading things written by old dead people</td>\n",
       "      <td>playing synthesizers and organizing books acco...</td>\n",
       "      <td>socially awkward but i do my best</td>\n",
       "      <td>...</td>\n",
       "      <td>berkeley, california</td>\n",
       "      <td>doesn&amp;rsquo;t want kids</td>\n",
       "      <td>straight</td>\n",
       "      <td>likes cats</td>\n",
       "      <td>NaN</td>\n",
       "      <td>m</td>\n",
       "      <td>pisces</td>\n",
       "      <td>no</td>\n",
       "      <td>english, german (poorly)</td>\n",
       "      <td>single</td>\n",
       "    </tr>\n",
       "    <tr>\n",
       "      <th>4</th>\n",
       "      <td>29</td>\n",
       "      <td>athletic</td>\n",
       "      <td>NaN</td>\n",
       "      <td>socially</td>\n",
       "      <td>never</td>\n",
       "      <td>graduated from college/university</td>\n",
       "      <td>hey how's it going? currently vague on the pro...</td>\n",
       "      <td>work work work work + play</td>\n",
       "      <td>creating imagery to look at:&lt;br /&gt;\\nhttp://bag...</td>\n",
       "      <td>i smile a lot and my inquisitive nature</td>\n",
       "      <td>...</td>\n",
       "      <td>san francisco, california</td>\n",
       "      <td>NaN</td>\n",
       "      <td>straight</td>\n",
       "      <td>likes dogs and likes cats</td>\n",
       "      <td>NaN</td>\n",
       "      <td>m</td>\n",
       "      <td>aquarius</td>\n",
       "      <td>no</td>\n",
       "      <td>english</td>\n",
       "      <td>single</td>\n",
       "    </tr>\n",
       "  </tbody>\n",
       "</table>\n",
       "<p>5 rows × 31 columns</p>\n",
       "</div>"
      ],
      "text/plain": [
       "   age       body_type               diet    drinks      drugs  \\\n",
       "0   22  a little extra  strictly anything  socially      never   \n",
       "1   35         average       mostly other     often  sometimes   \n",
       "2   38            thin           anything  socially        NaN   \n",
       "3   23            thin         vegetarian  socially        NaN   \n",
       "4   29        athletic                NaN  socially      never   \n",
       "\n",
       "                           education  \\\n",
       "0      working on college/university   \n",
       "1              working on space camp   \n",
       "2     graduated from masters program   \n",
       "3      working on college/university   \n",
       "4  graduated from college/university   \n",
       "\n",
       "                                              essay0  \\\n",
       "0  about me:<br />\\n<br />\\ni would love to think...   \n",
       "1  i am a chef: this is what that means.<br />\\n1...   \n",
       "2  i'm not ashamed of much, but writing public te...   \n",
       "3          i work in a library and go to school. . .   \n",
       "4  hey how's it going? currently vague on the pro...   \n",
       "\n",
       "                                              essay1  \\\n",
       "0  currently working as an international agent fo...   \n",
       "1  dedicating everyday to being an unbelievable b...   \n",
       "2  i make nerdy software for musicians, artists, ...   \n",
       "3          reading things written by old dead people   \n",
       "4                         work work work work + play   \n",
       "\n",
       "                                              essay2  \\\n",
       "0  making people laugh.<br />\\nranting about a go...   \n",
       "1  being silly. having ridiculous amonts of fun w...   \n",
       "2  improvising in different contexts. alternating...   \n",
       "3  playing synthesizers and organizing books acco...   \n",
       "4  creating imagery to look at:<br />\\nhttp://bag...   \n",
       "\n",
       "                                              essay3  ...  \\\n",
       "0  the way i look. i am a six foot half asian, ha...  ...   \n",
       "1                                                NaN  ...   \n",
       "2  my large jaw and large glasses are the physica...  ...   \n",
       "3                  socially awkward but i do my best  ...   \n",
       "4            i smile a lot and my inquisitive nature  ...   \n",
       "\n",
       "                          location  \\\n",
       "0  south san francisco, california   \n",
       "1              oakland, california   \n",
       "2        san francisco, california   \n",
       "3             berkeley, california   \n",
       "4        san francisco, california   \n",
       "\n",
       "                                      offspring orientation  \\\n",
       "0  doesn&rsquo;t have kids, but might want them    straight   \n",
       "1  doesn&rsquo;t have kids, but might want them    straight   \n",
       "2                                           NaN    straight   \n",
       "3                       doesn&rsquo;t want kids    straight   \n",
       "4                                           NaN    straight   \n",
       "\n",
       "                        pets                                  religion sex  \\\n",
       "0  likes dogs and likes cats     agnosticism and very serious about it   m   \n",
       "1  likes dogs and likes cats  agnosticism but not too serious about it   m   \n",
       "2                   has cats                                       NaN   m   \n",
       "3                 likes cats                                       NaN   m   \n",
       "4  likes dogs and likes cats                                       NaN   m   \n",
       "\n",
       "                                 sign     smokes  \\\n",
       "0                              gemini  sometimes   \n",
       "1                              cancer         no   \n",
       "2  pisces but it doesn&rsquo;t matter         no   \n",
       "3                              pisces         no   \n",
       "4                            aquarius         no   \n",
       "\n",
       "                                              speaks     status  \n",
       "0                                            english     single  \n",
       "1  english (fluently), spanish (poorly), french (...     single  \n",
       "2                               english, french, c++  available  \n",
       "3                           english, german (poorly)     single  \n",
       "4                                            english     single  \n",
       "\n",
       "[5 rows x 31 columns]"
      ]
     },
     "execution_count": 1,
     "metadata": {},
     "output_type": "execute_result"
    }
   ],
   "source": [
    "#Import necessary modules\n",
    "import pandas as pd\n",
    "import numpy as np\n",
    "\n",
    "#Load dataframe\n",
    "df=pd.read_csv('profiles.csv')\n",
    "\n",
    "#Get first few rows, column names, data types\n",
    "print(df.dtypes)\n",
    "df.head()"
   ]
  },
  {
   "cell_type": "markdown",
   "metadata": {},
   "source": [
    "Since this is a portfolio project, I would prefer it if I could use all of the skills I have learned so far. \n",
    "\n",
    "Here's a possible goal: we can try to predict who is single based on their profile information. By being able to predict whether a user is single, OkCupid can increase the frequency of profiles featured to the single user (assuming that all single people on OkCupid are looking for a partner/s.\n",
    "\n",
    "1. **Age** may be a relevant category, as older people tend to already be in relationships.\n",
    "2. **Drinks** may be relevant, as alcohol is used as a social lubricant, which may increase the chances of someone finding someone they like. The same goes for **drugs**.\n",
    "3. **Height** may be an indicator as there tends to be a favorable bias toward people who are tall.\n",
    "4. **Income** may be relevant as it gives the individual more freedom to do the things they want to do, which may increase the chances of them meeting someone they like.\n",
    "5. **Education** may be relevant as being in education may limit the time someone has for dating. However, one could also argue that being in a social environment with people who are roughly the same age as you may increase the probability of one finding someone they like.\n",
    "6. **Jobs** may be relevant to one's relationship status. Many people find their future spouses through work. On the other hand, some people may focus on work rather than relationships.\n",
    "9. **Sex** may be relevant, but I don't have a concrete line of reasoning to justify my choice. It's just intuition I guess.\n",
    "\n",
    "\n",
    "**Status** is the target.\n",
    "\n",
    "Ok, it looks like the following are features worth considering:\n",
    "\n",
    "'''age,drinks,drugs,height,income,education,job,sex,last online,status'''\n",
    "\n",
    "Before we begin, I will modify the data so that it will be easier to graph and model. One thing I need to do is to remove all NaN values."
   ]
  },
  {
   "cell_type": "code",
   "execution_count": 2,
   "metadata": {},
   "outputs": [
    {
     "name": "stderr",
     "output_type": "stream",
     "text": [
      "<ipython-input-2-ea3c36053904>:3: SettingWithCopyWarning: \n",
      "A value is trying to be set on a copy of a slice from a DataFrame\n",
      "\n",
      "See the caveats in the documentation: https://pandas.pydata.org/pandas-docs/stable/user_guide/indexing.html#returning-a-view-versus-a-copy\n",
      "  plotting_df.dropna(how=\"any\",inplace=True)\n"
     ]
    }
   ],
   "source": [
    "feature_list=['age','drinks','drugs','height','income','education','job','sex','last_online','status']\n",
    "plotting_df=df[feature_list]\n",
    "plotting_df.dropna(how=\"any\",inplace=True)"
   ]
  },
  {
   "cell_type": "markdown",
   "metadata": {},
   "source": [
    "Next, I will examine each column to find data that might cause issues. Lets start with age."
   ]
  },
  {
   "cell_type": "code",
   "execution_count": 3,
   "metadata": {},
   "outputs": [
    {
     "name": "stdout",
     "output_type": "stream",
     "text": [
      "27    2272\n",
      "26    2269\n",
      "28    2135\n",
      "25    2077\n",
      "24    1975\n",
      "29    1952\n",
      "30    1893\n",
      "31    1613\n",
      "23    1568\n",
      "32    1558\n",
      "33    1336\n",
      "22    1149\n",
      "34    1120\n",
      "35    1030\n",
      "36     935\n",
      "37     864\n",
      "38     796\n",
      "21     787\n",
      "39     713\n",
      "42     657\n",
      "40     631\n",
      "41     616\n",
      "20     606\n",
      "43     535\n",
      "44     452\n",
      "45     424\n",
      "46     366\n",
      "19     349\n",
      "47     343\n",
      "48     343\n",
      "49     320\n",
      "50     301\n",
      "52     256\n",
      "51     229\n",
      "56     193\n",
      "54     190\n",
      "55     186\n",
      "57     185\n",
      "18     176\n",
      "59     163\n",
      "53     163\n",
      "58     146\n",
      "61     142\n",
      "60     139\n",
      "62     127\n",
      "63     107\n",
      "65      84\n",
      "66      82\n",
      "64      78\n",
      "67      53\n",
      "68      46\n",
      "69      21\n",
      "Name: age, dtype: int64\n"
     ]
    }
   ],
   "source": [
    "print(plotting_df.age.value_counts())"
   ]
  },
  {
   "cell_type": "markdown",
   "metadata": {},
   "source": [
    "No issue here, lets move on to drinks."
   ]
  },
  {
   "cell_type": "code",
   "execution_count": 4,
   "metadata": {},
   "outputs": [
    {
     "name": "stdout",
     "output_type": "stream",
     "text": [
      "socially       26279\n",
      "rarely          4351\n",
      "often           3143\n",
      "not at all      2473\n",
      "very often       319\n",
      "desperately      186\n",
      "Name: drinks, dtype: int64\n"
     ]
    }
   ],
   "source": [
    "print(plotting_df.drinks.value_counts())"
   ]
  },
  {
   "cell_type": "markdown",
   "metadata": {},
   "source": [
    "No problems here. Lets move on to drugs."
   ]
  },
  {
   "cell_type": "code",
   "execution_count": 5,
   "metadata": {},
   "outputs": [
    {
     "name": "stdout",
     "output_type": "stream",
     "text": [
      "never        30090\n",
      "sometimes     6335\n",
      "often          326\n",
      "Name: drugs, dtype: int64\n"
     ]
    }
   ],
   "source": [
    "print(plotting_df.drugs.value_counts())"
   ]
  },
  {
   "cell_type": "markdown",
   "metadata": {},
   "source": [
    "Great! Lets move onto height and income:"
   ]
  },
  {
   "cell_type": "code",
   "execution_count": 6,
   "metadata": {},
   "outputs": [
    {
     "name": "stdout",
     "output_type": "stream",
     "text": [
      "70.0    3674\n",
      "68.0    3359\n",
      "67.0    3351\n",
      "72.0    3171\n",
      "69.0    3155\n",
      "66.0    3006\n",
      "71.0    2890\n",
      "65.0    2403\n",
      "64.0    2379\n",
      "73.0    1750\n",
      "63.0    1720\n",
      "74.0    1506\n",
      "62.0    1410\n",
      "75.0     832\n",
      "61.0     647\n",
      "76.0     475\n",
      "60.0     469\n",
      "77.0     167\n",
      "59.0     134\n",
      "78.0      74\n",
      "58.0      37\n",
      "79.0      36\n",
      "80.0      17\n",
      "82.0      10\n",
      "95.0      10\n",
      "81.0       9\n",
      "83.0       8\n",
      "57.0       8\n",
      "56.0       6\n",
      "53.0       4\n",
      "55.0       4\n",
      "94.0       3\n",
      "36.0       3\n",
      "54.0       3\n",
      "84.0       2\n",
      "91.0       2\n",
      "43.0       2\n",
      "49.0       1\n",
      "90.0       1\n",
      "26.0       1\n",
      "9.0        1\n",
      "4.0        1\n",
      "88.0       1\n",
      "51.0       1\n",
      "86.0       1\n",
      "1.0        1\n",
      "3.0        1\n",
      "48.0       1\n",
      "37.0       1\n",
      "87.0       1\n",
      "85.0       1\n",
      "47.0       1\n",
      "Name: height, dtype: int64\n",
      "-1          27898\n",
      " 20000       2381\n",
      " 100000      1217\n",
      " 80000        851\n",
      " 30000        809\n",
      " 40000        779\n",
      " 50000        743\n",
      " 60000        563\n",
      " 70000        549\n",
      " 150000       475\n",
      " 1000000      353\n",
      " 250000       103\n",
      " 500000        30\n",
      "Name: income, dtype: int64\n"
     ]
    }
   ],
   "source": [
    "print(plotting_df.height.value_counts())\n",
    "print(plotting_df.income.value_counts())"
   ]
  },
  {
   "cell_type": "markdown",
   "metadata": {},
   "source": [
    "The income value of -1 may cause issues with normalization later on. I will change them to zeros."
   ]
  },
  {
   "cell_type": "code",
   "execution_count": 7,
   "metadata": {},
   "outputs": [
    {
     "name": "stdout",
     "output_type": "stream",
     "text": [
      "0          27898\n",
      "20000       2381\n",
      "100000      1217\n",
      "80000        851\n",
      "30000        809\n",
      "40000        779\n",
      "50000        743\n",
      "60000        563\n",
      "70000        549\n",
      "150000       475\n",
      "1000000      353\n",
      "250000       103\n",
      "500000        30\n",
      "Name: income, dtype: int64\n"
     ]
    },
    {
     "name": "stderr",
     "output_type": "stream",
     "text": [
      "c:\\users\\user\\appdata\\local\\programs\\python\\python38-32\\lib\\site-packages\\pandas\\core\\indexing.py:1720: SettingWithCopyWarning: \n",
      "A value is trying to be set on a copy of a slice from a DataFrame.\n",
      "Try using .loc[row_indexer,col_indexer] = value instead\n",
      "\n",
      "See the caveats in the documentation: https://pandas.pydata.org/pandas-docs/stable/user_guide/indexing.html#returning-a-view-versus-a-copy\n",
      "  self._setitem_single_column(loc, value, pi)\n"
     ]
    }
   ],
   "source": [
    "plotting_df.loc[(plotting_df.income == -1),'income']=0\n",
    "print(plotting_df.income.value_counts())"
   ]
  },
  {
   "cell_type": "markdown",
   "metadata": {},
   "source": [
    "Awesome! Lets check out education:"
   ]
  },
  {
   "cell_type": "code",
   "execution_count": 8,
   "metadata": {},
   "outputs": [
    {
     "name": "stdout",
     "output_type": "stream",
     "text": [
      "graduated from college/university    15852\n",
      "graduated from masters program        6332\n",
      "working on college/university         4147\n",
      "graduated from two-year college       1227\n",
      "graduated from high school            1126\n",
      "working on masters program            1095\n",
      "graduated from ph.d program            951\n",
      "working on two-year college            828\n",
      "graduated from law school              735\n",
      "dropped out of college/university      727\n",
      "working on ph.d program                648\n",
      "college/university                     479\n",
      "graduated from space camp              453\n",
      "graduated from med school              350\n",
      "dropped out of space camp              330\n",
      "working on space camp                  272\n",
      "working on law school                  164\n",
      "two-year college                       159\n",
      "working on med school                  153\n",
      "dropped out of two-year college        146\n",
      "dropped out of masters program          96\n",
      "dropped out of ph.d program             91\n",
      "dropped out of high school              85\n",
      "masters program                         78\n",
      "working on high school                  71\n",
      "high school                             69\n",
      "space camp                              29\n",
      "ph.d program                            19\n",
      "dropped out of law school               13\n",
      "law school                              10\n",
      "dropped out of med school               10\n",
      "med school                               6\n",
      "Name: education, dtype: int64\n"
     ]
    }
   ],
   "source": [
    "print(plotting_df.education.value_counts())"
   ]
  },
  {
   "cell_type": "markdown",
   "metadata": {},
   "source": [
    "One problem here is that some entries are not specific. For example, three people stated for their education \"med school\". However, this does not tell me whether they are enrolled in med school. I will count how many entries in the education column are not specific."
   ]
  },
  {
   "cell_type": "code",
   "execution_count": 9,
   "metadata": {},
   "outputs": [
    {
     "name": "stdout",
     "output_type": "stream",
     "text": [
      "849\n",
      "0.02310141220647057\n"
     ]
    }
   ],
   "source": [
    "spec_count=0\n",
    "unspec_count=0\n",
    "for edu in plotting_df.loc[:,'education']:\n",
    "    if 'graduated' in edu or 'working on' in edu or 'dropped out' in edu:\n",
    "        spec_count+=1\n",
    "    else:\n",
    "        unspec_count+=1\n",
    "print(unspec_count)\n",
    "print(unspec_count/(spec_count+unspec_count))"
   ]
  },
  {
   "cell_type": "markdown",
   "metadata": {},
   "source": [
    "498 profiles have non-specific entries for the 'education' part of the profile. Removing these entries will only remove 2% of the current dataset. I will remove this data."
   ]
  },
  {
   "cell_type": "code",
   "execution_count": 10,
   "metadata": {},
   "outputs": [
    {
     "name": "stdout",
     "output_type": "stream",
     "text": [
      "graduated from college/university    15852\n",
      "graduated from masters program        6332\n",
      "working on college/university         4147\n",
      "graduated from two-year college       1227\n",
      "graduated from high school            1126\n",
      "working on masters program            1095\n",
      "graduated from ph.d program            951\n",
      "working on two-year college            828\n",
      "graduated from law school              735\n",
      "dropped out of college/university      727\n",
      "working on ph.d program                648\n",
      "graduated from space camp              453\n",
      "graduated from med school              350\n",
      "dropped out of space camp              330\n",
      "working on space camp                  272\n",
      "working on law school                  164\n",
      "working on med school                  153\n",
      "dropped out of two-year college        146\n",
      "dropped out of masters program          96\n",
      "dropped out of ph.d program             91\n",
      "dropped out of high school              85\n",
      "working on high school                  71\n",
      "dropped out of law school               13\n",
      "dropped out of med school               10\n",
      "Name: education, dtype: int64\n",
      "0\n",
      "0.0\n"
     ]
    },
    {
     "name": "stderr",
     "output_type": "stream",
     "text": [
      "c:\\users\\user\\appdata\\local\\programs\\python\\python38-32\\lib\\site-packages\\pandas\\core\\frame.py:4308: SettingWithCopyWarning: \n",
      "A value is trying to be set on a copy of a slice from a DataFrame\n",
      "\n",
      "See the caveats in the documentation: https://pandas.pydata.org/pandas-docs/stable/user_guide/indexing.html#returning-a-view-versus-a-copy\n",
      "  return super().drop(\n"
     ]
    }
   ],
   "source": [
    "plotting_df.drop(plotting_df[(plotting_df.loc[:,'education']==\"college/university\")|\n",
    "                            (plotting_df['education']==\"two-year college\")|\n",
    "                             (plotting_df['education']==\"high school\")|\n",
    "                             (plotting_df['education']==\"masters program\")|\n",
    "                             (plotting_df['education']==\"space camp\")|\n",
    "                             (plotting_df['education']==\"ph.d program\")|\n",
    "                             (plotting_df['education']==\"law school\")|\n",
    "                             (plotting_df['education']==\"med school\")\n",
    "                            ].index,inplace=True)\n",
    "print(plotting_df['education'].value_counts())\n",
    "spec_count=0\n",
    "unspec_count=0\n",
    "for edu in plotting_df['education']:\n",
    "    if 'graduated' in edu or 'working on' in edu or 'dropped out' in edu:\n",
    "        spec_count+=1\n",
    "    else:\n",
    "        unspec_count+=1\n",
    "print(unspec_count)\n",
    "print(unspec_count/(spec_count+unspec_count))"
   ]
  },
  {
   "cell_type": "markdown",
   "metadata": {},
   "source": [
    "My rationale for the education column is that being in school (i.e. enrolled). I will edit these values so that 0 is not enrolled and 1 is enrolled."
   ]
  },
  {
   "cell_type": "code",
   "execution_count": 11,
   "metadata": {},
   "outputs": [
    {
     "name": "stderr",
     "output_type": "stream",
     "text": [
      "c:\\users\\user\\appdata\\local\\programs\\python\\python38-32\\lib\\site-packages\\pandas\\core\\indexing.py:1597: SettingWithCopyWarning: \n",
      "A value is trying to be set on a copy of a slice from a DataFrame.\n",
      "Try using .loc[row_indexer,col_indexer] = value instead\n",
      "\n",
      "See the caveats in the documentation: https://pandas.pydata.org/pandas-docs/stable/user_guide/indexing.html#returning-a-view-versus-a-copy\n",
      "  self.obj[key] = value\n",
      "c:\\users\\user\\appdata\\local\\programs\\python\\python38-32\\lib\\site-packages\\pandas\\core\\indexing.py:1676: SettingWithCopyWarning: \n",
      "A value is trying to be set on a copy of a slice from a DataFrame.\n",
      "Try using .loc[row_indexer,col_indexer] = value instead\n",
      "\n",
      "See the caveats in the documentation: https://pandas.pydata.org/pandas-docs/stable/user_guide/indexing.html#returning-a-view-versus-a-copy\n",
      "  self._setitem_single_column(ilocs[0], value, pi)\n"
     ]
    }
   ],
   "source": [
    "plotting_df.loc[:,'in_edu']=plotting_df.loc[:,'education'].apply(lambda x: 0 if \"graduated\" in x or \"dropped out\" in x else 1)"
   ]
  },
  {
   "cell_type": "markdown",
   "metadata": {},
   "source": [
    "Cool! Now I will inspect jobs."
   ]
  },
  {
   "cell_type": "code",
   "execution_count": 12,
   "metadata": {},
   "outputs": [
    {
     "name": "stdout",
     "output_type": "stream",
     "text": [
      "other                                5123\n",
      "student                              3683\n",
      "science / tech / engineering         3419\n",
      "computer / hardware / software       3243\n",
      "sales / marketing / biz dev          3042\n",
      "artistic / musical / writer          2924\n",
      "medicine / health                    2614\n",
      "education / academia                 2503\n",
      "executive / management               1670\n",
      "banking / financial / real estate    1621\n",
      "entertainment / media                1426\n",
      "law / legal services                  912\n",
      "hospitality / travel                  890\n",
      "construction / craftsmanship          630\n",
      "clerical / administrative             557\n",
      "political / government                521\n",
      "rather not say                        308\n",
      "transportation                        248\n",
      "unemployed                            221\n",
      "retired                               183\n",
      "military                              164\n",
      "Name: job, dtype: int64\n"
     ]
    }
   ],
   "source": [
    "print(plotting_df.job.value_counts())"
   ]
  },
  {
   "cell_type": "markdown",
   "metadata": {},
   "source": [
    "Lastly, I will examine sex and status."
   ]
  },
  {
   "cell_type": "code",
   "execution_count": 13,
   "metadata": {},
   "outputs": [
    {
     "name": "stdout",
     "output_type": "stream",
     "text": [
      "m    21306\n",
      "f    14596\n",
      "Name: sex, dtype: int64\n",
      "single            33332\n",
      "seeing someone     1266\n",
      "available          1093\n",
      "married             207\n",
      "unknown               4\n",
      "Name: status, dtype: int64\n"
     ]
    }
   ],
   "source": [
    "print(plotting_df['sex'].value_counts())\n",
    "print(plotting_df['status'].value_counts())"
   ]
  },
  {
   "cell_type": "markdown",
   "metadata": {},
   "source": [
    "The unknown relationship status may not give us a lot of insight. I will remove them."
   ]
  },
  {
   "cell_type": "code",
   "execution_count": 14,
   "metadata": {},
   "outputs": [
    {
     "name": "stderr",
     "output_type": "stream",
     "text": [
      "c:\\users\\user\\appdata\\local\\programs\\python\\python38-32\\lib\\site-packages\\pandas\\core\\series.py:4443: SettingWithCopyWarning: \n",
      "A value is trying to be set on a copy of a slice from a DataFrame\n",
      "\n",
      "See the caveats in the documentation: https://pandas.pydata.org/pandas-docs/stable/user_guide/indexing.html#returning-a-view-versus-a-copy\n",
      "  return super().drop(\n"
     ]
    }
   ],
   "source": [
    "plotting_df.loc[:,'status'].drop(plotting_df[plotting_df.loc[:,'status']=='unknown'].index,inplace=True)"
   ]
  },
  {
   "cell_type": "markdown",
   "metadata": {},
   "source": [
    "Now, I will examine the last_online column."
   ]
  },
  {
   "cell_type": "code",
   "execution_count": 15,
   "metadata": {},
   "outputs": [
    {
     "name": "stdout",
     "output_type": "stream",
     "text": [
      "<bound method IndexOpsMixin.value_counts of 0        2012-06-28-20-30\n",
      "1        2012-06-29-21-41\n",
      "4        2012-06-27-21-26\n",
      "7        2012-06-29-12-30\n",
      "9        2012-06-28-21-08\n",
      "               ...       \n",
      "59939    2012-07-01-06-08\n",
      "59941    2012-06-12-21-47\n",
      "59942    2012-06-29-11-01\n",
      "59943    2012-06-27-23-37\n",
      "59944    2012-06-23-13-01\n",
      "Name: last_online, Length: 35902, dtype: object>\n"
     ]
    }
   ],
   "source": [
    "print(plotting_df['last_online'].value_counts)"
   ]
  },
  {
   "cell_type": "markdown",
   "metadata": {},
   "source": [
    "I will alter this data so that we get the days since we last saw the person on the website. I think that this will help with getting data that is more useful for ML models."
   ]
  },
  {
   "cell_type": "code",
   "execution_count": 16,
   "metadata": {},
   "outputs": [
    {
     "name": "stdout",
     "output_type": "stream",
     "text": [
      "59873   2012-07-01 08:57:00\n",
      "59838   2012-07-01 08:56:00\n",
      "59826   2012-07-01 08:56:00\n",
      "59819   2012-07-01 08:56:00\n",
      "59842   2012-07-01 08:56:00\n",
      "                ...        \n",
      "43845   2011-06-27 10:48:00\n",
      "40423   2011-06-27 10:36:00\n",
      "58982   2011-06-27 09:33:00\n",
      "13384   2011-06-27 08:25:00\n",
      "30466   2011-06-27 01:52:00\n",
      "Name: last_online, Length: 35902, dtype: datetime64[ns]\n",
      "timedelta64[ns]\n",
      "30466    370\n",
      "13384    370\n",
      "1162     369\n",
      "10864    369\n",
      "37418    369\n",
      "        ... \n",
      "19403      0\n",
      "30650      0\n",
      "45571      0\n",
      "19409      0\n",
      "47617      0\n",
      "Name: days since last seen, Length: 35902, dtype: int64\n"
     ]
    }
   ],
   "source": [
    "from datetime import date\n",
    "plotting_df.loc[:,'last_online'] = pd.to_datetime(plotting_df.loc[:,'last_online'], format='%Y-%m-%d-%H-%M')\n",
    "plotting_df.loc[:,\"last_online\"]=plotting_df.loc[:,\"last_online\"].astype('datetime64')\n",
    "plotting_df.loc[:,\"most recent\"]=plotting_df.loc[:,\"last_online\"].sort_values(ascending=False).iloc[0]\n",
    "print(plotting_df.loc[:,\"last_online\"].sort_values(ascending=False))\n",
    "plotting_df.loc[:,\"days since last seen\"]=plotting_df.loc[:,\"most recent\"].astype('datetime64')-plotting_df.loc[:,\"last_online\"].astype('datetime64')\n",
    "print(plotting_df.loc[:,\"days since last seen\"].dtype)\n",
    "plotting_df.loc[:,\"days since last seen\"]=plotting_df.loc[:,\"days since last seen\"].apply(lambda x:x.days)\n",
    "print(plotting_df.loc[:,\"days since last seen\"].sort_values(ascending=False))"
   ]
  },
  {
   "cell_type": "markdown",
   "metadata": {},
   "source": [
    "I will plot some scatter plots to see if there is any correlation between these features. I will update the features list."
   ]
  },
  {
   "cell_type": "code",
   "execution_count": 17,
   "metadata": {},
   "outputs": [],
   "source": [
    "feature_list=['age','drinks','drugs','height','income','in_edu','job','sex','days since last seen','status']\n",
    "feature_list1=['age','drinks','drugs','height','income','in_edu','job','days since last seen','sex']"
   ]
  },
  {
   "cell_type": "code",
   "execution_count": 18,
   "metadata": {},
   "outputs": [
    {
     "data": {
      "image/png": "[encoded data removed]",
      "text/plain": [
       "<Figure size 432x288 with 1 Axes>"
      ]
     },
     "metadata": {
      "needs_background": "light"
     },
     "output_type": "display_data"
    },
    {
     "data": {
      "image/png": "[encoded data removed]",
      "text/plain": [
       "<Figure size 432x288 with 1 Axes>"
      ]
     },
     "metadata": {
      "needs_background": "light"
     },
     "output_type": "display_data"
    },
    {
     "data": {
      "image/png": "[encoded data removed]",
      "text/plain": [
       "<Figure size 432x288 with 1 Axes>"
      ]
     },
     "metadata": {
      "needs_background": "light"
     },
     "output_type": "display_data"
    },
    {
     "data": {
      "image/png": "[encoded data removed]",
      "text/plain": [
       "<Figure size 432x288 with 1 Axes>"
      ]
     },
     "metadata": {
      "needs_background": "light"
     },
     "output_type": "display_data"
    },
    {
     "data": {
      "image/png": "[encoded data removed]",
      "text/plain": [
       "<Figure size 432x288 with 1 Axes>"
      ]
     },
     "metadata": {
      "needs_background": "light"
     },
     "output_type": "display_data"
    },
    {
     "data": {
      "image/png": "[encoded data removed]",
      "text/plain": [
       "<Figure size 432x288 with 1 Axes>"
      ]
     },
     "metadata": {
      "needs_background": "light"
     },
     "output_type": "display_data"
    },
    {
     "data": {
      "image/png": "[encoded data removed]",
      "text/plain": [
       "<Figure size 432x288 with 1 Axes>"
      ]
     },
     "metadata": {
      "needs_background": "light"
     },
     "output_type": "display_data"
    },
    {
     "data": {
      "image/png": "[encoded data removed]",
      "text/plain": [
       "<Figure size 432x288 with 1 Axes>"
      ]
     },
     "metadata": {
      "needs_background": "light"
     },
     "output_type": "display_data"
    },
    {
     "data": {
      "image/png": "[encoded data removed]",
      "text/plain": [
       "<Figure size 432x288 with 1 Axes>"
      ]
     },
     "metadata": {
      "needs_background": "light"
     },
     "output_type": "display_data"
    },
    {
     "data": {
      "image/png": "[encoded data removed]",
      "text/plain": [
       "<Figure size 432x288 with 1 Axes>"
      ]
     },
     "metadata": {
      "needs_background": "light"
     },
     "output_type": "display_data"
    }
   ],
   "source": [
    "from matplotlib import pyplot as plt\n",
    "for feature in feature_list:\n",
    "    plt.scatter(plotting_df[feature],plotting_df.status,alpha=.1)\n",
    "    plt.title(feature)\n",
    "    plt.xticks(rotation=30)\n",
    "    plt.show()"
   ]
  },
  {
   "cell_type": "markdown",
   "metadata": {},
   "source": [
    "Some of these graphs show some correlation. For example, there are single people all across the age x-axis, but more 20-40 year olds are married.\n",
    "There aren't as many people who desperately need to drink who are married (perhaps alcohol consumption can abate relationships).\n",
    "It looks like not a lot of people who do drugs often are married.\n",
    "Since these are categorical labels, I will make individual columns for each choice.\n",
    "Based on the above, I believe that it would be best to use a KNN classifier. Before I begin, I will need to normalize the data.\n"
   ]
  },
  {
   "cell_type": "code",
   "execution_count": 19,
   "metadata": {},
   "outputs": [
    {
     "name": "stderr",
     "output_type": "stream",
     "text": [
      "c:\\users\\user\\appdata\\local\\programs\\python\\python38-32\\lib\\site-packages\\pandas\\core\\indexing.py:1597: SettingWithCopyWarning: \n",
      "A value is trying to be set on a copy of a slice from a DataFrame.\n",
      "Try using .loc[row_indexer,col_indexer] = value instead\n",
      "\n",
      "See the caveats in the documentation: https://pandas.pydata.org/pandas-docs/stable/user_guide/indexing.html#returning-a-view-versus-a-copy\n",
      "  self.obj[key] = value\n",
      "c:\\users\\user\\appdata\\local\\programs\\python\\python38-32\\lib\\site-packages\\pandas\\core\\indexing.py:1676: SettingWithCopyWarning: \n",
      "A value is trying to be set on a copy of a slice from a DataFrame.\n",
      "Try using .loc[row_indexer,col_indexer] = value instead\n",
      "\n",
      "See the caveats in the documentation: https://pandas.pydata.org/pandas-docs/stable/user_guide/indexing.html#returning-a-view-versus-a-copy\n",
      "  self._setitem_single_column(ilocs[0], value, pi)\n"
     ]
    },
    {
     "name": "stdout",
     "output_type": "stream",
     "text": [
      "Index(['age', 'height', 'income', 'in_edu', 'days since last seen',\n",
      "       'is single', 'drinks socially?', 'drinks often?', 'drinks not at all?',\n",
      "       'drinks rarely?', 'drinks very often?', 'drinks desperately?',\n",
      "       'drugs never?', 'drugs sometimes?', 'drugs often?',\n",
      "       'job transportation?', 'job hospitality / travel?',\n",
      "       'job artistic / musical / writer?', 'job student?',\n",
      "       'job banking / financial / real estate?',\n",
      "       'job sales / marketing / biz dev?', 'job other?',\n",
      "       'job medicine / health?', 'job science / tech / engineering?',\n",
      "       'job executive / management?', 'job education / academia?',\n",
      "       'job clerical / administrative?', 'job computer / hardware / software?',\n",
      "       'job entertainment / media?', 'job rather not say?',\n",
      "       'job political / government?', 'job law / legal services?',\n",
      "       'job construction / craftsmanship?', 'job unemployed?', 'job military?',\n",
      "       'job retired?', 'sex m?', 'sex f?'],\n",
      "      dtype='object')\n",
      "   age  height  income  in_edu  days since last seen  is single  \\\n",
      "0   22    75.0       0       1                     2          1   \n",
      "1   35    70.0   80000       1                     1          1   \n",
      "4   29    66.0       0       0                     3          1   \n",
      "7   31    65.0       0       0                     1          1   \n",
      "9   37    65.0       0       1                     2          1   \n",
      "\n",
      "   drinks socially?  drinks often?  drinks not at all?  drinks rarely?  ...  \\\n",
      "0                 1              0                   0               0  ...   \n",
      "1                 0              1                   0               0  ...   \n",
      "4                 1              0                   0               0  ...   \n",
      "7                 1              0                   0               0  ...   \n",
      "9                 0              0                   1               0  ...   \n",
      "\n",
      "   job entertainment / media?  job rather not say?  \\\n",
      "0                           0                    0   \n",
      "1                           0                    0   \n",
      "4                           0                    0   \n",
      "7                           0                    0   \n",
      "9                           0                    0   \n",
      "\n",
      "   job political / government?  job law / legal services?  \\\n",
      "0                            0                          0   \n",
      "1                            0                          0   \n",
      "4                            0                          0   \n",
      "7                            0                          0   \n",
      "9                            0                          0   \n",
      "\n",
      "   job construction / craftsmanship?  job unemployed?  job military?  \\\n",
      "0                                  0                0              0   \n",
      "1                                  0                0              0   \n",
      "4                                  0                0              0   \n",
      "7                                  0                0              0   \n",
      "9                                  0                0              0   \n",
      "\n",
      "   job retired?  sex m?  sex f?  \n",
      "0             0       1       0  \n",
      "1             0       1       0  \n",
      "4             0       1       0  \n",
      "7             0       0       1  \n",
      "9             0       1       0  \n",
      "\n",
      "[5 rows x 38 columns]\n"
     ]
    },
    {
     "name": "stderr",
     "output_type": "stream",
     "text": [
      "c:\\users\\user\\appdata\\local\\programs\\python\\python38-32\\lib\\site-packages\\pandas\\core\\frame.py:4308: SettingWithCopyWarning: \n",
      "A value is trying to be set on a copy of a slice from a DataFrame\n",
      "\n",
      "See the caveats in the documentation: https://pandas.pydata.org/pandas-docs/stable/user_guide/indexing.html#returning-a-view-versus-a-copy\n",
      "  return super().drop(\n"
     ]
    }
   ],
   "source": [
    "plotting_df.loc[:,\"is single\"]=np.where(plotting_df.loc[:,\"status\"]=='single',1,0)\n",
    "columns_to_change=[\"drinks\",\"drugs\",\"job\",\"sex\"]\n",
    "for column in columns_to_change:\n",
    "    value_list=pd.unique(plotting_df.loc[:,column])\n",
    "    for value in value_list:\n",
    "        new_col_name=column+' '+value+'?'\n",
    "        plotting_df.loc[:,new_col_name]=np.where(plotting_df.loc[:,column]==value,1,0)\n",
    "plotting_df.drop(columns=[\"drinks\",\"drugs\",\"job\",\"sex\",\"education\",\"last_online\",\"status\",\"most recent\"],inplace=True)\n",
    "print(plotting_df.columns)\n",
    "print(plotting_df.head())"
   ]
  },
  {
   "cell_type": "code",
   "execution_count": 20,
   "metadata": {},
   "outputs": [],
   "source": [
    "from sklearn.preprocessing import scale\n",
    "df1=plotting_df\n",
    "feature_list1=['age', 'height', 'income', 'in_edu', 'days since last seen',\n",
    "        'drinks socially?', 'drinks often?', 'drinks not at all?',\n",
    "       'drinks rarely?', 'drinks very often?', 'drinks desperately?',\n",
    "       'drugs never?', 'drugs sometimes?', 'drugs often?',\n",
    "       'job transportation?', 'job hospitality / travel?',\n",
    "       'job artistic / musical / writer?', 'job student?',\n",
    "       'job banking / financial / real estate?',\n",
    "       'job sales / marketing / biz dev?', 'job other?',\n",
    "       'job medicine / health?', 'job science / tech / engineering?',\n",
    "       'job executive / management?', 'job education / academia?',\n",
    "       'job clerical / administrative?', 'job computer / hardware / software?',\n",
    "       'job entertainment / media?', 'job rather not say?',\n",
    "       'job political / government?', 'job law / legal services?',\n",
    "       'job construction / craftsmanship?', 'job unemployed?', 'job military?',\n",
    "       'job retired?', 'sex m?', 'sex f?']\n",
    "data=df1[feature_list1]\n",
    "label=df1[\"is single\"]\n",
    "scaled_data=scale(data,axis=0)"
   ]
  },
  {
   "cell_type": "code",
   "execution_count": 29,
   "metadata": {},
   "outputs": [
    {
     "name": "stdout",
     "output_type": "stream",
     "text": [
      "1 || 0.8768973680545885\n",
      "2 || 0.8316390474864225\n",
      "3 || 0.9154713828157638\n",
      "4 || 0.9026597966856984\n",
      "5 || 0.9254978415262498\n",
      "6 || 0.9222949449937334\n",
      "7 || 0.9284222253168083\n",
      "8 || 0.9268904052360395\n",
      "9 || 0.92953627628464\n",
      "10 || 0.9285614816877872\n",
      "11 || 0.9302325581395349\n",
      "12 || 0.9300933017685559\n",
      "13 || 0.9302325581395349\n",
      "14 || 0.9302325581395349\n",
      "15 || 0.9305110708814929\n",
      "16 || 0.9302325581395349\n",
      "17 || 0.9305110708814929\n",
      "18 || 0.9303718145105139\n",
      "19 || 0.9306503272524718\n"
     ]
    },
    {
     "data": {
      "image/png": "[encoded data removed]",
      "text/plain": [
       "<Figure size 432x288 with 1 Axes>"
      ]
     },
     "metadata": {
      "needs_background": "light"
     },
     "output_type": "display_data"
    }
   ],
   "source": [
    "from sklearn.neighbors import KNeighborsClassifier\n",
    "from sklearn.model_selection import train_test_split\n",
    "scores=[]\n",
    "for k in list(range(1,20)):\n",
    "    classifier=KNeighborsClassifier(n_neighbors=k)\n",
    "    train_data,test_data,train_label,test_label=train_test_split(scaled_data,label,train_size=.8,test_size=.2,random_state=1)\n",
    "    classifier.fit(train_data,train_label)\n",
    "    print(str(k)+\" || \"+str(classifier.score(test_data,test_label)))\n",
    "    scores.append(classifier.score(test_data,test_label))\n",
    "plt.close(\"all\")\n",
    "plt.plot(list(range(1,20)),scores)\n",
    "plt.show()"
   ]
  },
  {
   "cell_type": "markdown",
   "metadata": {},
   "source": [
    "It looks like the efficacy of the model starts to taper at around k=11 to k=19. k=15 seems reasonable.\n",
    "Holy moly! Our R-squared is .93!"
   ]
  },
  {
   "cell_type": "markdown",
   "metadata": {},
   "source": [
    "## Conclusion:\n",
    "What I learned:\n",
    "1. We can predict whether someone is single with an accuracy of around .93.\n",
    "2. Learned the recommended ways of calling columns and the data inside them.\n",
    "\n",
    "This model can be augmented to predict other categorical features of OkCupid users.\n",
    "This model may be able to be improved by utilizing the data from user essays. NLP would be a good tool for this.\n"
   ]
  }
 ],
 "metadata": {
  "kernelspec": {
   "display_name": "Python 3",
   "language": "python",
   "name": "python3"
  },
  "language_info": {
   "codemirror_mode": {
    "name": "ipython",
    "version": 3
   },
   "file_extension": ".py",
   "mimetype": "text/x-python",
   "name": "python",
   "nbconvert_exporter": "python",
   "pygments_lexer": "ipython3",
   "version": "3.8.3"
  }
 },
 "nbformat": 4,
 "nbformat_minor": 4
}
