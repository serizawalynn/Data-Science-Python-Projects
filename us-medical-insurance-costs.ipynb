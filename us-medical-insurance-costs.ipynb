{
 "cells": [
  {
   "cell_type": "markdown",
   "metadata": {},
   "source": [
    "# U.S. Medical Insurance Costs\n",
    "\n",
    "(Completed as a project for CodeAcademy)\n",
    "\n",
    "In this project, I will find key statistics for a spreadsheet that contains patient data. The available data is age, sex, bmi, children, smoker status, location, and charges.\n",
    "\n",
    "Outline:\n",
    "\n",
    "1. Key statistics for:\n",
    "    1. Age\n",
    "    1. Make a function\n",
    "    1. Sex\n",
    "    1. BMI\n",
    "    1. Number of Children\n",
    "    1. Smoker Status\n",
    "    1. Location\n",
    "    1. Charges\n",
    "2. Average charges and statistical differences for subcategories in:\n",
    "    1. Age\n",
    "    1. Sex\n",
    "    1. BMI\n",
    "    1. Number of Children\n",
    "    1. Smoker Status\n",
    "    1. Location"
   ]
  },
  {
   "cell_type": "markdown",
   "metadata": {},
   "source": [
    "## 1a. Key Statistics for Age\n",
    "Since age is a continuous variable, statistics like mean, median, mode, range, quartiles, etc. can be found.\n",
    "The first step is to collect the data from the CSV. For this, I will use the pandas module. I will also print out the parsed csv to make sure that it works. "
   ]
  },
  {
   "cell_type": "code",
   "execution_count": 1,
   "metadata": {
    "scrolled": true
   },
   "outputs": [
    {
     "name": "stdout",
     "output_type": "stream",
     "text": [
      "      age     sex     bmi  children smoker     region      charges\n",
      "0      19  female  27.900         0    yes  southwest  16884.92400\n",
      "1      18    male  33.770         1     no  southeast   1725.55230\n",
      "2      28    male  33.000         3     no  southeast   4449.46200\n",
      "3      33    male  22.705         0     no  northwest  21984.47061\n",
      "4      32    male  28.880         0     no  northwest   3866.85520\n",
      "...   ...     ...     ...       ...    ...        ...          ...\n",
      "1333   50    male  30.970         3     no  northwest  10600.54830\n",
      "1334   18  female  31.920         0     no  northeast   2205.98080\n",
      "1335   18  female  36.850         0     no  southeast   1629.83350\n",
      "1336   21  female  25.800         0     no  southwest   2007.94500\n",
      "1337   61  female  29.070         0    yes  northwest  29141.36030\n",
      "\n",
      "[1338 rows x 7 columns]\n"
     ]
    }
   ],
   "source": [
    "import pandas as pd\n",
    "insurance_file=pd.read_csv(r'C:\\Users\\User\\Desktop\\us med cost final\\python-portfolio-project-starter-files\\insurance.csv')\n",
    "print(insurance_file)"
   ]
  },
  {
   "cell_type": "markdown",
   "metadata": {},
   "source": [
    "Now, I will extract data just for the age column."
   ]
  },
  {
   "cell_type": "code",
   "execution_count": 2,
   "metadata": {},
   "outputs": [
    {
     "name": "stdout",
     "output_type": "stream",
     "text": [
      "      age\n",
      "0      19\n",
      "1      18\n",
      "2      28\n",
      "3      33\n",
      "4      32\n",
      "...   ...\n",
      "1333   50\n",
      "1334   18\n",
      "1335   18\n",
      "1336   21\n",
      "1337   61\n",
      "\n",
      "[1338 rows x 1 columns]\n"
     ]
    }
   ],
   "source": [
    "ages=pd.DataFrame(insurance_file, columns=['age'])\n",
    "print(ages)"
   ]
  },
  {
   "cell_type": "markdown",
   "metadata": {},
   "source": [
    "While we are at it, lets separate the columns into individual arrays."
   ]
  },
  {
   "cell_type": "code",
   "execution_count": 3,
   "metadata": {},
   "outputs": [],
   "source": [
    "sex=pd.DataFrame(insurance_file, columns=['sex'])\n",
    "bmi=pd.DataFrame(insurance_file, columns=['bmi'])\n",
    "children=pd.DataFrame(insurance_file, columns=['children'])\n",
    "smoker=pd.DataFrame(insurance_file, columns=['smoker'])\n",
    "region=pd.DataFrame(insurance_file, columns=['region'])\n",
    "charges=pd.DataFrame(insurance_file, columns=['charges'])"
   ]
  },
  {
   "cell_type": "markdown",
   "metadata": {},
   "source": [
    "Now, I will take the mean, median, mode, range, min, max, standard deviation, and the quartiles. I will use numpy and scipy to get the statistics. I will use matplotlib to plot a box and whiskers plot."
   ]
  },
  {
   "cell_type": "code",
   "execution_count": 4,
   "metadata": {},
   "outputs": [
    {
     "name": "stdout",
     "output_type": "stream",
     "text": [
      "\n",
      "The average age is 39. \n",
      " \n",
      "The median age is 39.0. \n",
      "\n",
      "The most common age is 18. \n",
      "\n",
      "The range of ages is 46. \n",
      "\n",
      "The youngest person in the data set is 18 years old. \n",
      "\n",
      "The oldest person in the data set is 64 years old. \n",
      "\n",
      "The standard deviation in ages is 14.044709038954522. \n",
      "\n",
      "The 1st quartile is 27.0. \n",
      "\n",
      "The 3rd quartile is 51.0.\n"
     ]
    },
    {
     "data": {
      "image/png": "[encoded data removed]",
      "text/plain": [
       "<Figure size 432x288 with 1 Axes>"
      ]
     },
     "metadata": {
      "needs_background": "light"
     },
     "output_type": "display_data"
    }
   ],
   "source": [
    "import numpy as np\n",
    "from scipy import stats\n",
    "import matplotlib.pyplot as plt\n",
    "#Box and whiskers plot\n",
    "fig1, ax1=plt.subplots()\n",
    "ax1.set_title('Ages')\n",
    "ax1.boxplot(ages)\n",
    "#Mean\n",
    "ages_mean=np.average(ages)\n",
    "ages_mean=int(ages_mean.round())\n",
    "#Median\n",
    "ages_median=np.median(ages)\n",
    "#Mode\n",
    "ages_mode=stats.mode(ages)\n",
    "ages_mode=int(ages_mode[0])\n",
    "#Range\n",
    "ages_range=np.ptp(ages)\n",
    "#Min\n",
    "ages_min=np.amin(ages)\n",
    "#Max\n",
    "ages_max=np.amax(ages)\n",
    "#Standard Deviation\n",
    "ages_stddev=np.std(ages)\n",
    "#1st Quartile\n",
    "ages_1st_quartile=np.quantile(ages,.25)\n",
    "#3rd Quartile\n",
    "ages_3rd_quartile=np.quantile(ages,.75)\n",
    "print('''\n",
    "The average age is {}. \\n \n",
    "The median age is {}. \\n\n",
    "The most common age is {}. \\n\n",
    "The range of ages is {}. \\n\n",
    "The youngest person in the data set is {} years old. \\n\n",
    "The oldest person in the data set is {} years old. \\n\n",
    "The standard deviation in ages is {}. \\n\n",
    "The 1st quartile is {}. \\n\n",
    "The 3rd quartile is {}.'''.format(ages_mean,ages_median,ages_mode,ages_range,int(ages_min),int(ages_max),float(ages_stddev),ages_1st_quartile,ages_3rd_quartile))"
   ]
  },
  {
   "cell_type": "markdown",
   "metadata": {},
   "source": [
    "## 1b: Make a function\n",
    "Looking back, I realized that the previous can be done using a function.\n",
    "First, I need to determine the type of data. For example, I cannot find the \"average\" sex (I would not really understand what .5 sex might be), and the range of sex would be a fairly meaningless statistic."
   ]
  },
  {
   "cell_type": "code",
   "execution_count": 5,
   "metadata": {},
   "outputs": [],
   "source": [
    "#Function to find stats for a continuous variable (e.g. age, BMI)\n",
    "def continuous_stats(data,name):\n",
    "    fig1, ax1=plt.subplots()\n",
    "    ax1.set_title(name)\n",
    "    ax1.boxplot(data)\n",
    "    #Mean\n",
    "    mean=np.average(data)\n",
    "    mean=int(mean.round())\n",
    "    #Median\n",
    "    median=np.median(data)\n",
    "    #Mode\n",
    "    mode=stats.mode(data)\n",
    "    mode=int(mode[0])\n",
    "    #Range\n",
    "    ranges=np.ptp(data)\n",
    "    #Min\n",
    "    minimum=np.amin(data)\n",
    "    #Max\n",
    "    maximum=np.amax(data)\n",
    "    #Std. Dev\n",
    "    stddev=np.std(data)\n",
    "    #1st Q\n",
    "    first_quartile=np.quantile(data,.25)\n",
    "    #3rd Q\n",
    "    third_quartile=np.quantile(data,.75)\n",
    "    return '''The statistics for this data set named \"{}\" is: \\n\n",
    "    Mean:{} \\n\n",
    "    Median:{} \\n\n",
    "    Mode: {} \\n\n",
    "    Range:{} \\n\n",
    "    Min:{} \\n\n",
    "    Max:{} \\n\n",
    "    Standard Deviation:{} \\n\n",
    "    1st Quartile:{} \\n\n",
    "    3rd Quartile:{}'''.format(name,float(mean),float(median),float(mode),float(ranges),float(minimum),float(maximum),float(stddev),float(first_quartile),float(third_quartile))\n",
    "\n",
    "#Function to find stats for a discrete variable (e.g. region, sex)\n",
    "def discrete_stats(data,name):\n",
    "    #All Options\n",
    "    unique_entries=np.unique(data,return_counts=True)\n",
    "    labels=unique_entries[0]\n",
    "    counts=unique_entries[1]\n",
    "    count=0\n",
    "    string=\"\"\n",
    "    while count+1 <=len(labels):\n",
    "        string=string+str(labels[count])+\": \"+str(counts[count])+\"\\n\"\n",
    "        count=count+1\n",
    "    #Mode\n",
    "    mode_of_data=stats.mode(data)\n",
    "    #Percent\n",
    "    total_entries=len(data)\n",
    "    return '''The statistics for this data set named \"{}\" is: \\n\n",
    "    All Options and their counts:\\n\n",
    "    {} \\n\n",
    "    Mode: {} \\n\n",
    "    Total Entries: {}\\n'''.format(str(name),str(string),(mode_of_data[0][0][0]),total_entries)\n",
    "    \n",
    "#A function that can tell which of the above functions to use. \n",
    "def key_statistics(d,n):\n",
    "    data_points=np.unique(d)\n",
    "    point=data_points[0]\n",
    "    if isinstance(point,np.int64):\n",
    "        print(continuous_stats(d,n))\n",
    "    elif isinstance(point,np.float64):\n",
    "        print(continuous_stats(d,n))\n",
    "    elif isinstance(point,str):\n",
    "        print(discrete_stats(d,n))\n",
    "        "
   ]
  },
  {
   "cell_type": "markdown",
   "metadata": {},
   "source": [
    "## 1c: Sex\n",
    "Here I will use the above function to get key statistics for sex."
   ]
  },
  {
   "cell_type": "code",
   "execution_count": 6,
   "metadata": {},
   "outputs": [
    {
     "name": "stdout",
     "output_type": "stream",
     "text": [
      "The statistics for this data set named \"Sex\" is: \n",
      "\n",
      "    All Options and their counts:\n",
      "\n",
      "    female: 662\n",
      "male: 676\n",
      " \n",
      "\n",
      "    Mode: male \n",
      "\n",
      "    Total Entries: 1338\n",
      "\n"
     ]
    }
   ],
   "source": [
    "key_statistics(sex,\"Sex\")"
   ]
  },
  {
   "cell_type": "markdown",
   "metadata": {},
   "source": [
    "From the data above, I can calculate the proportion of each sex in the data set."
   ]
  },
  {
   "cell_type": "code",
   "execution_count": 7,
   "metadata": {},
   "outputs": [
    {
     "name": "stdout",
     "output_type": "stream",
     "text": [
      "The proportion of people who are of the female sex are roughly 49.48%.\n",
      "The proportion of people who are of the male sex are roughly 50.52%.\n"
     ]
    }
   ],
   "source": [
    "print(f'''The proportion of people who are of the female sex are roughly {round((662*100)/1338,2)}%.''')\n",
    "print(f'''The proportion of people who are of the male sex are roughly {round((676*100)/1338,2)}%.''')"
   ]
  },
  {
   "cell_type": "markdown",
   "metadata": {},
   "source": [
    "## 1d: BMI\n",
    "Here, I will use the above function to get key statistics for BMI."
   ]
  },
  {
   "cell_type": "code",
   "execution_count": 8,
   "metadata": {},
   "outputs": [
    {
     "name": "stdout",
     "output_type": "stream",
     "text": [
      "The statistics for this data set named \"BMI\" is: \n",
      "\n",
      "    Mean:31.0 \n",
      "\n",
      "    Median:30.4 \n",
      "\n",
      "    Mode: 32.0 \n",
      "\n",
      "    Range:37.17 \n",
      "\n",
      "    Min:15.96 \n",
      "\n",
      "    Max:53.13 \n",
      "\n",
      "    Standard Deviation:6.0959076415894256 \n",
      "\n",
      "    1st Quartile:26.29625 \n",
      "\n",
      "    3rd Quartile:34.69375\n"
     ]
    },
    {
     "data": {
      "image/png": "[encoded data removed]",
      "text/plain": [
       "<Figure size 432x288 with 1 Axes>"
      ]
     },
     "metadata": {
      "needs_background": "light"
     },
     "output_type": "display_data"
    }
   ],
   "source": [
    "key_statistics(bmi,\"BMI\")"
   ]
  },
  {
   "cell_type": "markdown",
   "metadata": {},
   "source": [
    "According to the CDC, the following are the brackets for the different levels of BMI for adults:\n",
    "1. <18.5=Underweight\n",
    "1. 18.5~24.9=Normal weight\n",
    "1. 25~29.9=Overweight\n",
    "1. Greater than or equal to 30=Obese\"\n",
    "\n",
    "Using the above data, I can quantify how many people are in each bracket, and what % are in each bracket."
   ]
  },
  {
   "cell_type": "code",
   "execution_count": 9,
   "metadata": {},
   "outputs": [
    {
     "name": "stdout",
     "output_type": "stream",
     "text": [
      "The number of underweight people is 21.\n",
      "The number of people with a healthy weight is 226. \n",
      "The number of overweight people is 386.\n",
      "The number of obese people is 705.\n",
      "\n",
      "The percentage of people who are underweight is roughly 2%.\n",
      "The percentage of people with a healthy weight is roughly 17%.\n",
      "The percentage of people who are overweight is roughly 29%.\n",
      "The percentage of people who are obese is roughly 53%.\n"
     ]
    }
   ],
   "source": [
    "underweight, normalweight, overweight, obese=0,0,0,0\n",
    "bmi_list=bmi.values.tolist()\n",
    "total_people=len(bmi_list)\n",
    "for element in bmi_list:\n",
    "    if element[0]<=18.5:\n",
    "        underweight+=1\n",
    "    elif element[0]>18.5 and element[0]<=25.0:\n",
    "        normalweight+=1\n",
    "    elif element[0]>25 and element[0]<=30.0:\n",
    "        overweight+=1\n",
    "    elif element[0]>30.0:\n",
    "        obese+=1\n",
    "print(f'''The number of underweight people is {underweight}.\\nThe number of people with a healthy weight is {normalweight}. \\nThe number of overweight people is {overweight}.\n",
    "The number of obese people is {obese}.\\n\\nThe percentage of people who are underweight is roughly {round((underweight*100)/total_people)}%.\\nThe percentage of people with a healthy weight is roughly {round((normalweight*100)/total_people)}%.\\nThe percentage of people who are overweight is roughly {round((overweight*100)/total_people)}%.\\nThe percentage of people who are obese is roughly {round((obese*100)/total_people)}%.''')"
   ]
  },
  {
   "cell_type": "markdown",
   "metadata": {},
   "source": [
    "## 1e: Number of Children\n",
    "Here, I will use the function in 1c to gain key statistics for the number of children."
   ]
  },
  {
   "cell_type": "code",
   "execution_count": 10,
   "metadata": {},
   "outputs": [
    {
     "name": "stdout",
     "output_type": "stream",
     "text": [
      "The statistics for this data set named \"Number of Children\" is: \n",
      "\n",
      "    Mean:1.0 \n",
      "\n",
      "    Median:1.0 \n",
      "\n",
      "    Mode: 0.0 \n",
      "\n",
      "    Range:5.0 \n",
      "\n",
      "    Min:0.0 \n",
      "\n",
      "    Max:5.0 \n",
      "\n",
      "    Standard Deviation:1.2050421724928497 \n",
      "\n",
      "    1st Quartile:0.0 \n",
      "\n",
      "    3rd Quartile:2.0\n"
     ]
    },
    {
     "data": {
      "image/png": "[encoded data removed]",
      "text/plain": [
       "<Figure size 432x288 with 1 Axes>"
      ]
     },
     "metadata": {
      "needs_background": "light"
     },
     "output_type": "display_data"
    }
   ],
   "source": [
    "key_statistics(children,\"Number of Children\")"
   ]
  },
  {
   "cell_type": "markdown",
   "metadata": {},
   "source": [
    "## 1f: Smoker Status\n",
    "Here, I will gain key statistics for smoking status.\n",
    "(Pro tip: Don't smoke!)"
   ]
  },
  {
   "cell_type": "code",
   "execution_count": 11,
   "metadata": {},
   "outputs": [
    {
     "name": "stdout",
     "output_type": "stream",
     "text": [
      "The statistics for this data set named \"Smoker Status\" is: \n",
      "\n",
      "    All Options and their counts:\n",
      "\n",
      "    no: 1064\n",
      "yes: 274\n",
      " \n",
      "\n",
      "    Mode: no \n",
      "\n",
      "    Total Entries: 1338\n",
      "\n"
     ]
    }
   ],
   "source": [
    "key_statistics(smoker,\"Smoker Status\")"
   ]
  },
  {
   "cell_type": "markdown",
   "metadata": {},
   "source": [
    "Using the data above, I can calculate the percentages of people who smoke and don't smoke (seriously, don't smoke!)."
   ]
  },
  {
   "cell_type": "code",
   "execution_count": 12,
   "metadata": {},
   "outputs": [
    {
     "name": "stdout",
     "output_type": "stream",
     "text": [
      "The percentage of people who smoke in the data set is roughly 20.48%.\n",
      "The percentage of people who don't smoke in the data set is roughly 79.52%.\n"
     ]
    }
   ],
   "source": [
    "print(f'''The percentage of people who smoke in the data set is roughly {round(((274*100)/1338),2)}%.''')\n",
    "print(f'''The percentage of people who don't smoke in the data set is roughly {round(((1064*100)/1338),2)}%.''')"
   ]
  },
  {
   "cell_type": "markdown",
   "metadata": {},
   "source": [
    "## 1g: Location\n",
    "Here, I will gain key statistics for where patients are located."
   ]
  },
  {
   "cell_type": "code",
   "execution_count": 13,
   "metadata": {},
   "outputs": [
    {
     "name": "stdout",
     "output_type": "stream",
     "text": [
      "The statistics for this data set named \"Region\" is: \n",
      "\n",
      "    All Options and their counts:\n",
      "\n",
      "    northeast: 324\n",
      "northwest: 325\n",
      "southeast: 364\n",
      "southwest: 325\n",
      " \n",
      "\n",
      "    Mode: southeast \n",
      "\n",
      "    Total Entries: 1338\n",
      "\n"
     ]
    }
   ],
   "source": [
    "key_statistics(region,\"Region\")"
   ]
  },
  {
   "cell_type": "markdown",
   "metadata": {},
   "source": [
    "Using the data above, I can calculate the percentages of people who live in each region."
   ]
  },
  {
   "cell_type": "code",
   "execution_count": 14,
   "metadata": {},
   "outputs": [
    {
     "name": "stdout",
     "output_type": "stream",
     "text": [
      "In the data set:\n",
      "The portion of people who live in the northeast is roughly 24.22%.\n",
      "The portion of people who live in the northwest is roughly 24.29%.\n",
      "The portion of people who live in the southeast is roughly 27.2%.\n",
      "The portion of people who live in the southwest is roughly 24.29%.\n"
     ]
    }
   ],
   "source": [
    "print('''In the data set:''')\n",
    "print(f'''The portion of people who live in the northeast is roughly {round((324*100)/1338,2)}%.''')\n",
    "print(f'''The portion of people who live in the northwest is roughly {round((325*100)/1338,2)}%.''')\n",
    "print(f'''The portion of people who live in the southeast is roughly {round((364*100)/1338,2)}%.''')\n",
    "print(f'''The portion of people who live in the southwest is roughly {round((325*100)/1338,2)}%.''')"
   ]
  },
  {
   "cell_type": "markdown",
   "metadata": {},
   "source": [
    "From the above data, it looks like the proportion of people who live in each region is roughly the same."
   ]
  },
  {
   "cell_type": "markdown",
   "metadata": {},
   "source": [
    "## 1h: Charges\n",
    "Here, I will gain key statistics for where patients are located. "
   ]
  },
  {
   "cell_type": "code",
   "execution_count": 15,
   "metadata": {},
   "outputs": [
    {
     "name": "stdout",
     "output_type": "stream",
     "text": [
      "The statistics for this data set named \"Insurance Charges\" is: \n",
      "\n",
      "    Mean:13270.0 \n",
      "\n",
      "    Median:9382.033 \n",
      "\n",
      "    Mode: 1639.0 \n",
      "\n",
      "    Range:62648.554110000005 \n",
      "\n",
      "    Min:1121.8739 \n",
      "\n",
      "    Max:63770.42801 \n",
      "\n",
      "    Standard Deviation:12105.484975561612 \n",
      "\n",
      "    1st Quartile:4740.28715 \n",
      "\n",
      "    3rd Quartile:16639.912515\n"
     ]
    },
    {
     "data": {
      "image/png": "[encoded data removed]",
      "text/plain": [
       "<Figure size 432x288 with 1 Axes>"
      ]
     },
     "metadata": {
      "needs_background": "light"
     },
     "output_type": "display_data"
    }
   ],
   "source": [
    "key_statistics(charges,\"Insurance Charges\")"
   ]
  },
  {
   "cell_type": "markdown",
   "metadata": {},
   "source": [
    "Based on the box-and-whiskers plot above, it looks like a significant portion of people are paying a lot for insurance. "
   ]
  },
  {
   "cell_type": "markdown",
   "metadata": {},
   "source": [
    "## 2a: Difference in Insurance Costs Based on Age Brackets\n",
    "Here, I will examine the differences between insurance charges based on age brackets. For example, I can figure out whether younger people are paying more for insurance than senior citizens.\n",
    "First, I will sort the data into age brackets. Then, I will find the average cost for each group. I will use the following brackets:\n",
    "1. Adult: 18~35\n",
    "2. Middle Age: 36~55\n",
    "3. Senior: 56+"
   ]
  },
  {
   "cell_type": "code",
   "execution_count": 16,
   "metadata": {},
   "outputs": [
    {
     "name": "stdout",
     "output_type": "stream",
     "text": [
      "The average cost for adults is $9673.32.\n",
      "The average cost of middle aged people is $14561.17.\n",
      "The average cost for seniors is $18513.28.\n"
     ]
    }
   ],
   "source": [
    "import statistics\n",
    "import scipy as scipy\n",
    "age_cost_subset=insurance_file[['age','charges']]\n",
    "age_cost_tuples=[tuple(x) for x in age_cost_subset.to_numpy()]\n",
    "adult=[]\n",
    "middle=[]\n",
    "senior=[]\n",
    "for items in age_cost_tuples:\n",
    "    if items[0]>=18 and items[0]<35:\n",
    "        adult.append(items)\n",
    "    elif items[0]>=35 and items[0]<55:\n",
    "        middle.append(items)\n",
    "    elif items[0]>=55:\n",
    "        senior.append(items)\n",
    "adult_costs=[]\n",
    "for items in adult:\n",
    "    adult_costs.append(items[1])\n",
    "adult_cost_average=statistics.mean(adult_costs)\n",
    "middle_costs=[]\n",
    "for items in middle:\n",
    "    middle_costs.append(items[1])\n",
    "middle_costs_average=statistics.mean(middle_costs)\n",
    "senior_costs=[]\n",
    "for items in senior:\n",
    "    senior_costs.append(items[1])\n",
    "senior_costs_average=statistics.mean(senior_costs)\n",
    "print(f'''The average cost for adults is ${round(adult_cost_average,2)}.\\nThe average cost of middle aged people is ${round(middle_costs_average,2)}.\\nThe average cost for seniors is ${round(senior_costs_average,2)}.''')"
   ]
  },
  {
   "cell_type": "markdown",
   "metadata": {},
   "source": [
    "Since I have the costs sorted out by age group, I can use a student's t-test to see whether there is a statistically significant difference in costs among the different age groups. Here, the null hypothesis is that there is NO statistical difference between the cost of insurance for adults and senior citizens. The alternative hypothesis is that there IS a statistical difference between the cost of insurance for adults and senior citizens. The alpha value will be 0.05."
   ]
  },
  {
   "cell_type": "code",
   "execution_count": 17,
   "metadata": {},
   "outputs": [
    {
     "name": "stdout",
     "output_type": "stream",
     "text": [
      "Ttest_indResult(statistic=-9.927260660693449, pvalue=5.76701107123396e-22)\n"
     ]
    }
   ],
   "source": [
    "print(scipy.stats.ttest_ind(adult_costs,senior_costs))"
   ]
  },
  {
   "cell_type": "markdown",
   "metadata": {},
   "source": [
    "Since the p-value is less than 0.05, I can reject the null hypothesis and say that there is a statistically significant difference between insurance costs for adults and seniors. Here, I will make a function that will allow me to do the above."
   ]
  },
  {
   "cell_type": "code",
   "execution_count": 18,
   "metadata": {},
   "outputs": [],
   "source": [
    "def ttest(data1,data2,nullhypo,althypo,alpha_val):\n",
    "    results=scipy.stats.ttest_ind(data1,data2)\n",
    "    if results[1]<=alpha_val:\n",
    "        return(f'''Using the student's t-test, since the p-value is less than or equal to the alpha value {alpha_val}, we can conclude that there is statistically significant evidence to suggest that {althypo}.''')\n",
    "    elif results[1]>alpha_val:\n",
    "        return(f'''Using the student's t-test, since the p-value is greater than the alpha value {alpha_val}, we cannot reject the null hypothesis that {nullhypo}.''')"
   ]
  },
  {
   "cell_type": "markdown",
   "metadata": {},
   "source": [
    "Now, I will examine whether there are statistical differences between the insurance costs for the age groups:\n",
    "Adults and Middle Aged People\n",
    "Adults and Seniors\n",
    "Middle Aged People and Seniors"
   ]
  },
  {
   "cell_type": "code",
   "execution_count": 19,
   "metadata": {
    "scrolled": true
   },
   "outputs": [
    {
     "name": "stdout",
     "output_type": "stream",
     "text": [
      "For the difference in insurance costs for adults and middle aged people:\n",
      "Using the student's t-test, since the p-value is less than or equal to the alpha value 0.05, we can conclude that there is statistically significant evidence to suggest that there is a difference between insurance costs for adults and middle aged people.\n",
      "\n",
      "For the difference in insurance costs for adults and seniors:\n",
      "Using the student's t-test, since the p-value is less than or equal to the alpha value 0.05, we can conclude that there is statistically significant evidence to suggest that there is a difference between insurance costs for adults and seniors.\n",
      "\n",
      "For the difference in insurance costs for middle age people and seniors:\n",
      "Using the student's t-test, since the p-value is less than or equal to the alpha value 0.05, we can conclude that there is statistically significant evidence to suggest that there is a difference between insurance costs for middle aged people and seniors.\n"
     ]
    }
   ],
   "source": [
    "print('''For the difference in insurance costs for adults and middle aged people:''')\n",
    "am_null_hypo=\"there is no difference between insurance costs for adults and middle aged people\"\n",
    "am_alt_hypo=\"there is a difference between insurance costs for adults and middle aged people\"\n",
    "print(ttest(adult_costs,middle_costs,am_null_hypo,am_alt_hypo,.05))\n",
    "print(\"\")\n",
    "print('''For the difference in insurance costs for adults and seniors:''')\n",
    "as_null_hypo=\"there is no difference between insurance costs for adults and seniors\"\n",
    "as_alt_hypo=\"there is a difference between insurance costs for adults and seniors\"\n",
    "print(ttest(adult_costs,senior_costs,as_null_hypo,as_alt_hypo,.05))\n",
    "print(\"\")\n",
    "print('''For the difference in insurance costs for middle age people and seniors:''')\n",
    "ms_null_hypo=\"there is no difference between insurance costs for middle aged people and seniors\"\n",
    "ms_alt_hypo=\"there is a difference between insurance costs for middle aged people and seniors\"\n",
    "print(ttest(adult_costs,senior_costs,ms_null_hypo,ms_alt_hypo,.05))"
   ]
  },
  {
   "cell_type": "markdown",
   "metadata": {},
   "source": [
    "## 2b. Differences in Insurance Costs by Sex\n",
    "Here, I will see if there are statistical differences between insurance costs between the sexes. "
   ]
  },
  {
   "cell_type": "code",
   "execution_count": 20,
   "metadata": {},
   "outputs": [
    {
     "name": "stdout",
     "output_type": "stream",
     "text": [
      "The average cost of insurance for men is $13956.75.\n",
      "The average cost of insurance for women is $12569.58.\n",
      "Using the student's t-test, since the p-value is less than or equal to the alpha value 0.05, we can conclude that there is statistically significant evidence to suggest that there is a difference between the insurance costs for men and women.\n"
     ]
    }
   ],
   "source": [
    "sex_cost_subset=insurance_file[['sex','charges']]\n",
    "sex_cost_tuples=[tuple(x) for x in sex_cost_subset.to_numpy()]\n",
    "male_costs=[]\n",
    "female_costs=[]\n",
    "for items in sex_cost_tuples:\n",
    "    if items[0]=='male':\n",
    "        male_costs.append(items[1])\n",
    "    elif items[0]=='female':\n",
    "        female_costs.append(items[1])\n",
    "male_costs_average=statistics.mean(male_costs)\n",
    "female_costs_average=statistics.mean(female_costs)\n",
    "print(f'''The average cost of insurance for men is ${round(male_costs_average,2)}.''')\n",
    "print(f'''The average cost of insurance for women is ${round(female_costs_average,2)}.''')\n",
    "sexes_nh=\"there is no difference between the insurance costs for men and women\"\n",
    "sexes_ah=\"there is a difference between the insurance costs for men and women\"\n",
    "print(ttest(male_costs,female_costs,sexes_nh,sexes_ah,.05))\n"
   ]
  },
  {
   "cell_type": "markdown",
   "metadata": {},
   "source": [
    "## 2c. Differences in Insurance Costs for Different BMI Categories\n",
    "Here, I will see if there are statistical differences between insurance costs for different BMI categories. I will first extract the data, then make lists for each group, then run them through the ttest function. I will make functions to make the process less repetitive."
   ]
  },
  {
   "cell_type": "code",
   "execution_count": 28,
   "metadata": {},
   "outputs": [
    {
     "name": "stdout",
     "output_type": "stream",
     "text": [
      "The average insurance cost for people in the underweight group is $8657.62.\n",
      "The average insurance cost for people in the healthy weight group is $10435.44.\n",
      "The average insurance cost for people in the overweight group is $10997.8.\n",
      "The average insurance cost for people in the obese group is $15560.93.\n",
      "\n",
      "Using the student's t-test, since the p-value is greater than the alpha value 0.05, we cannot reject the null hypothesis that there is no difference in insurance costs between people in the underweight group and the healthy weight group.\n",
      "\n",
      "Using the student's t-test, since the p-value is greater than the alpha value 0.05, we cannot reject the null hypothesis that there is no difference in insurance costs between people in the underweight group and the overweight group.\n",
      "\n",
      "Using the student's t-test, since the p-value is less than or equal to the alpha value 0.05, we can conclude that there is statistically significant evidence to suggest that there is a difference in insurance costs between people in the underweight group and the obese group.\n",
      "\n",
      "Using the student's t-test, since the p-value is greater than the alpha value 0.05, we cannot reject the null hypothesis that there is no difference in insurance costs between people in the healthy weight group and the overweight group.\n",
      "\n",
      "Using the student's t-test, since the p-value is less than or equal to the alpha value 0.05, we can conclude that there is statistically significant evidence to suggest that there is a difference in insurance costs between people in the healthy weight group and the obese group.\n",
      "\n",
      "Using the student's t-test, since the p-value is less than or equal to the alpha value 0.05, we can conclude that there is statistically significant evidence to suggest that there is a difference in insurance costs between people in the overweight group and the obese group.\n",
      "\n"
     ]
    }
   ],
   "source": [
    "def average_stat(data_labels,list_list):\n",
    "    combined=zip(data_labels,list_list)\n",
    "    for x,y in combined:\n",
    "        print(f'''The average insurance cost for people in the {x} group is ${round(statistics.mean(y),2)}.''')\n",
    "\n",
    "def multiple_ttest(label_group,list_group,alpha):\n",
    "    count=0\n",
    "    null_hypo=\"there is no difference in insurance costs between people in the \"\n",
    "    alt_hypo=\"there is a difference in insurance costs between people in the \"\n",
    "    while count<=len(label_group)-1:\n",
    "        for iteration in range(count+1,len(label_group)):\n",
    "            \n",
    "            statement=ttest(list_group[count],list_group[iteration],null_hypo+label_group[count]+\" group and the \"+label_group[iteration]+\" group\",\n",
    "                        alt_hypo+label_group[count]+\" group and the \"+label_group[iteration]+\" group\",alpha)\n",
    "            print(statement)\n",
    "            print(\"\")\n",
    "        count=count+1\n",
    "\n",
    "bmi_cost_subset=insurance_file[['bmi','charges']]\n",
    "bmi_cost_tuples=[tuple(x) for x in bmi_cost_subset.to_numpy()]\n",
    "under_costs=[]\n",
    "healthy_costs=[]\n",
    "over_costs=[]\n",
    "obese_costs=[]\n",
    "for items in bmi_cost_tuples:\n",
    "    if items[0]<=18.5:\n",
    "        under_costs.append(items[1])\n",
    "    elif items[0]>18.5 and items[0]<=25:\n",
    "        healthy_costs.append(items[1])\n",
    "    elif items[0]>25 and items[0]<=30:\n",
    "        over_costs.append(items[1])\n",
    "    elif items[0]>30:\n",
    "        obese_costs.append(items[1])\n",
    "bmi_cat_cost_list=[under_costs,healthy_costs,over_costs,obese_costs]\n",
    "bmi_labels=[\"underweight\",\"healthy weight\",\"overweight\",\"obese\"]\n",
    "average_stat(bmi_labels,bmi_cat_cost_list)\n",
    "print(\"\")\n",
    "multiple_ttest(bmi_labels,bmi_cat_cost_list,.05)"
   ]
  },
  {
   "cell_type": "markdown",
   "metadata": {},
   "source": [
    "## 2d. Differences in Insurance Costs Based on Number of Children\n",
    "Here, I will examine differences in insurance costs based on the number of children a payer has."
   ]
  },
  {
   "cell_type": "code",
   "execution_count": 33,
   "metadata": {},
   "outputs": [
    {
     "name": "stdout",
     "output_type": "stream",
     "text": [
      "The average insurance cost for people in the No Children group is $12365.98.\n",
      "The average insurance cost for people in the 1 Child group is $12731.17.\n",
      "The average insurance cost for people in the 2 Children group is $15073.56.\n",
      "The average insurance cost for people in the 3 Children group is $15355.32.\n",
      "The average insurance cost for people in the 4 Children group is $13850.66.\n",
      "The average insurance cost for people in the 5 Children group is $8786.04.\n",
      "\n",
      "Using the student's t-test, since the p-value is greater than the alpha value 0.05, we cannot reject the null hypothesis that there is no difference in insurance costs between people in the No Children group and the 1 Child group.\n",
      "\n",
      "Using the student's t-test, since the p-value is less than or equal to the alpha value 0.05, we can conclude that there is statistically significant evidence to suggest that there is a difference in insurance costs between people in the No Children group and the 2 Children group.\n",
      "\n",
      "Using the student's t-test, since the p-value is less than or equal to the alpha value 0.05, we can conclude that there is statistically significant evidence to suggest that there is a difference in insurance costs between people in the No Children group and the 3 Children group.\n",
      "\n",
      "Using the student's t-test, since the p-value is greater than the alpha value 0.05, we cannot reject the null hypothesis that there is no difference in insurance costs between people in the No Children group and the 4 Children group.\n",
      "\n",
      "Using the student's t-test, since the p-value is greater than the alpha value 0.05, we cannot reject the null hypothesis that there is no difference in insurance costs between people in the No Children group and the 5 Children group.\n",
      "\n",
      "Using the student's t-test, since the p-value is less than or equal to the alpha value 0.05, we can conclude that there is statistically significant evidence to suggest that there is a difference in insurance costs between people in the 1 Child group and the 2 Children group.\n",
      "\n",
      "Using the student's t-test, since the p-value is less than or equal to the alpha value 0.05, we can conclude that there is statistically significant evidence to suggest that there is a difference in insurance costs between people in the 1 Child group and the 3 Children group.\n",
      "\n",
      "Using the student's t-test, since the p-value is greater than the alpha value 0.05, we cannot reject the null hypothesis that there is no difference in insurance costs between people in the 1 Child group and the 4 Children group.\n",
      "\n",
      "Using the student's t-test, since the p-value is greater than the alpha value 0.05, we cannot reject the null hypothesis that there is no difference in insurance costs between people in the 1 Child group and the 5 Children group.\n",
      "\n",
      "Using the student's t-test, since the p-value is greater than the alpha value 0.05, we cannot reject the null hypothesis that there is no difference in insurance costs between people in the 2 Children group and the 3 Children group.\n",
      "\n",
      "Using the student's t-test, since the p-value is greater than the alpha value 0.05, we cannot reject the null hypothesis that there is no difference in insurance costs between people in the 2 Children group and the 4 Children group.\n",
      "\n",
      "Using the student's t-test, since the p-value is less than or equal to the alpha value 0.05, we can conclude that there is statistically significant evidence to suggest that there is a difference in insurance costs between people in the 2 Children group and the 5 Children group.\n",
      "\n",
      "Using the student's t-test, since the p-value is greater than the alpha value 0.05, we cannot reject the null hypothesis that there is no difference in insurance costs between people in the 3 Children group and the 4 Children group.\n",
      "\n",
      "Using the student's t-test, since the p-value is less than or equal to the alpha value 0.05, we can conclude that there is statistically significant evidence to suggest that there is a difference in insurance costs between people in the 3 Children group and the 5 Children group.\n",
      "\n",
      "Using the student's t-test, since the p-value is less than or equal to the alpha value 0.05, we can conclude that there is statistically significant evidence to suggest that there is a difference in insurance costs between people in the 4 Children group and the 5 Children group.\n",
      "\n"
     ]
    }
   ],
   "source": [
    "children_costs_subset=insurance_file[['children','charges']]\n",
    "children_costs_tuples=[tuple(x) for x in children_costs_subset.to_numpy()]\n",
    "child_0=[]\n",
    "child_1=[]\n",
    "child_2=[]\n",
    "child_3=[]\n",
    "child_4=[]\n",
    "child_5=[]\n",
    "child_count_list=['No Children',\"1 Child\",\"2 Children\",\"3 Children\",\"4 Children\",\"5 Children\"]\n",
    "for items in children_costs_tuples:\n",
    "    if items[0]==0:\n",
    "        child_0.append(items[1])\n",
    "    elif items[0]==1:\n",
    "        child_1.append(items[1])\n",
    "    elif items[0]==2:\n",
    "        child_2.append(items[1])\n",
    "    elif items[0]==3:\n",
    "        child_3.append(items[1])\n",
    "    elif items[0]==4:\n",
    "        child_4.append(items[1])\n",
    "    elif items[0]==5:\n",
    "        child_5.append(items[1])\n",
    "child_data_list=[child_0,child_1,child_2,child_3,child_4,child_5]\n",
    "average_stat(child_count_list,child_data_list )\n",
    "print(\"\")\n",
    "multiple_ttest(child_count_list,child_data_list,.05)\n"
   ]
  },
  {
   "cell_type": "markdown",
   "metadata": {},
   "source": [
    "## 2e. Differences in Insurance Costs Based on Smoker Status"
   ]
  },
  {
   "cell_type": "code",
   "execution_count": 35,
   "metadata": {},
   "outputs": [
    {
     "name": "stdout",
     "output_type": "stream",
     "text": [
      "The average insurance cost for people in the Smoking group is $32050.23.\n",
      "The average insurance cost for people in the Not Smoking group is $8434.27.\n",
      "\n",
      "Using the student's t-test, since the p-value is less than or equal to the alpha value 0.05, we can conclude that there is statistically significant evidence to suggest that there is a difference in insurance costs between people in the Smoking group and the Not Smoking group.\n",
      "\n"
     ]
    }
   ],
   "source": [
    "smoker_costs_subset=insurance_file[['smoker','charges']]\n",
    "smoker_costs_tuples=[tuple(x) for x in smoker_costs_subset.to_numpy()]\n",
    "smoker_yes=[]\n",
    "smoker_no=[]\n",
    "for items in smoker_costs_tuples:\n",
    "    if items[0]=='yes':\n",
    "        smoker_yes.append(items[1])\n",
    "    elif items[0]=='no':\n",
    "        smoker_no.append(items[1])\n",
    "smoker_data_label=[\"Smoking\",\"Not Smoking\"]\n",
    "smoker_data_lists=[smoker_yes,smoker_no]\n",
    "average_stat(smoker_data_label,smoker_data_lists)\n",
    "print(\"\")\n",
    "multiple_ttest(smoker_data_label,smoker_data_lists,.05)"
   ]
  },
  {
   "cell_type": "markdown",
   "metadata": {},
   "source": [
    "## 2f. Differences in Insurance Costs Based on Location"
   ]
  },
  {
   "cell_type": "code",
   "execution_count": 37,
   "metadata": {},
   "outputs": [
    {
     "name": "stdout",
     "output_type": "stream",
     "text": [
      "The average insurance cost for people in the Northeast group is $13406.38.\n",
      "The average insurance cost for people in the Northwest group is $12417.58.\n",
      "The average insurance cost for people in the Southeast group is $14735.41.\n",
      "The average insurance cost for people in the Southwest group is $12346.94.\n",
      "\n",
      "Using the student's t-test, since the p-value is greater than the alpha value 0.05, we cannot reject the null hypothesis that there is no difference in insurance costs between people in the Northeast group and the Northwest group.\n",
      "\n",
      "Using the student's t-test, since the p-value is greater than the alpha value 0.05, we cannot reject the null hypothesis that there is no difference in insurance costs between people in the Northeast group and the Southeast group.\n",
      "\n",
      "Using the student's t-test, since the p-value is greater than the alpha value 0.05, we cannot reject the null hypothesis that there is no difference in insurance costs between people in the Northeast group and the Southwest group.\n",
      "\n",
      "Using the student's t-test, since the p-value is less than or equal to the alpha value 0.05, we can conclude that there is statistically significant evidence to suggest that there is a difference in insurance costs between people in the Northwest group and the Southeast group.\n",
      "\n",
      "Using the student's t-test, since the p-value is greater than the alpha value 0.05, we cannot reject the null hypothesis that there is no difference in insurance costs between people in the Northwest group and the Southwest group.\n",
      "\n",
      "Using the student's t-test, since the p-value is less than or equal to the alpha value 0.05, we can conclude that there is statistically significant evidence to suggest that there is a difference in insurance costs between people in the Southeast group and the Southwest group.\n",
      "\n"
     ]
    }
   ],
   "source": [
    "regional_costs_subset=insurance_file[['region','charges']]\n",
    "regional_costs_tuples=[tuple(x) for x in regional_costs_subset.to_numpy()]\n",
    "northeast=[]\n",
    "northwest=[]\n",
    "southeast=[]\n",
    "southwest=[]\n",
    "for items in regional_costs_tuples:\n",
    "    if items[0]=='northeast':\n",
    "        northeast.append(items[1])\n",
    "    elif items[0]=='northwest':\n",
    "        northwest.append(items[1])\n",
    "    elif items[0]=='southeast':\n",
    "        southeast.append(items[1])\n",
    "    elif items[0]=='southwest':\n",
    "        southwest.append(items[1])\n",
    "region_cost_list_list=[northeast,northwest,southeast,southwest]\n",
    "region_labels=[\"Northeast\",\"Northwest\",\"Southeast\",\"Southwest\"]\n",
    "average_stat(region_labels,region_cost_list_list)\n",
    "print(\"\")\n",
    "multiple_ttest(region_labels,region_cost_list_list,.05)\n"
   ]
  }
 ],
 "metadata": {
  "kernelspec": {
   "display_name": "Python 3",
   "language": "python",
   "name": "python3"
  },
  "language_info": {
   "codemirror_mode": {
    "name": "ipython",
    "version": 3
   },
   "file_extension": ".py",
   "mimetype": "text/x-python",
   "name": "python",
   "nbconvert_exporter": "python",
   "pygments_lexer": "ipython3",
   "version": "3.8.3"
  }
 },
 "nbformat": 4,
 "nbformat_minor": 4
}
